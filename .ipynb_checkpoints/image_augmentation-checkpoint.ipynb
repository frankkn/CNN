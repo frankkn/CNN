{
 "cells": [
  {
   "cell_type": "code",
   "execution_count": 1,
   "id": "b8cc54bc",
   "metadata": {},
   "outputs": [
    {
     "name": "stdout",
     "output_type": "stream",
     "text": [
      "classes:\n",
      "dataset\\52\n",
      "dataset\\AUG_52\n",
      "dataset\\owner\n",
      "dataset\\shipper\n"
     ]
    }
   ],
   "source": [
    "import pathlib\n",
    "\n",
    "data_root = pathlib.Path('./dataset')\n",
    "\n",
    "print('classes:')\n",
    "for item in data_root.iterdir():\n",
    "    print(item)\n",
    "    \n"
   ]
  },
  {
   "cell_type": "code",
   "execution_count": 2,
   "id": "f1bb21d9",
   "metadata": {},
   "outputs": [
    {
     "name": "stdout",
     "output_type": "stream",
     "text": [
      "['1697183732514_0.jpg', '1697183733351_0.jpg', '1702354399037.jpg', '1702895731686.jpg', '85838_0.jpg', '85839.jpg', 'DSCF0031_0.jpg', 'DSCF0032_0.jpg', 'DSCF5474_0.jpg', 'DSCF6252_0.jpg', 'DSCF6253_0.jpg', 'DSCF6254_0.jpg', 'GESU1408012_130716_03.jpg', 'GESU1408012_130716_04.jpg', 'GESU2723940_140227_06.jpg', 'GESU2723940_140227_07.jpg', 'GESU3905091_140626_01.jpg', 'GESU5076636_131210_02.jpg', 'GESU5076636_131210_03.jpg', 'GESU5076636_131210_04.jpg', 'GESU5828800_140617_11.jpg', 'GESU5828800_140617_12.jpg', 'GESU5828800_140617_13.jpg', 'GESU5828800_140617_14.jpg', 'GESU6379806_140210_03.jpg', 'GESU6380005_140623_02.jpg', 'GESU6380005_140623_03.jpg', 'GESU6380556_131004_05.jpg', 'GESU6380556_131004_06.jpg', 'GESU6915792_130726_05.jpg', 'GESU6915792_130726_06.jpg', 'K CXDU 1153664 (8) (Small)_0.jpg', 'K SEGU 4048676R (3) (Medium)_0.jpg', 'KWLU2070623_130824_01.jpg', 'KWLU2090466_130603_03.jpg', 'KWLU2091673_131223_06.jpg', 'KWLU2092561_130603_03.jpg', 'KWLU2120046_130401_01.jpg', 'KWLU2120236_140609_02.jpg', 'KWLU2120236_140609_03.jpg', 'KWLU2122440-2.jpg', 'KWLU2122440-3.jpg', 'KWLU5012430-3.jpg', 'KWLU5012430-4.jpg', 'KWLU5012430-5.jpg', 'KWLU5092966_130617_03.jpg', 'KWLU5813933- (1).JPG', 'KWLU5813933-.JPG', 'TGHU6256928-4.jpg', 'TGHU6550906_131004_06.jpg', 'TGHU6550906_131004_07.jpg', 'WFHU 1351462-2-1.jpg', 'WFHU 1351462-2.jpg']\n"
     ]
    }
   ],
   "source": [
    "import os\n",
    "\n",
    "IMAGE_DIR = './dataset/52'\n",
    "\n",
    "aug_images = os.listdir(IMAGE_DIR)\n",
    "\n",
    "print(aug_images)"
   ]
  },
  {
   "cell_type": "code",
   "execution_count": 3,
   "id": "f0dd0216",
   "metadata": {},
   "outputs": [],
   "source": [
    "import tensorflow as tf\n",
    "from data_aug.data_aug import *\n",
    "import numpy as np\n",
    "\n",
    "IMAGE_DIR = './dataset/52'\n",
    "AUG_IMG_DIR = './dataset/AUG_52'\n",
    "\n",
    "os.makedirs(AUG_IMG_DIR, exist_ok=True)\n",
    "\n",
    "np.random.seed(0)\n",
    "\n",
    "trans = Sequence([RandomRotate(10), \n",
    "                  RandomTranslate(0.2), \n",
    "                  RandomHSV(20, 20, 20), \n",
    "                  RandomHorizontalFlip(0.5), \n",
    "                  RandomScale(0.15), \n",
    "                  RandomShear(0.15)])\n",
    "\n",
    "for name in aug_images:\n",
    "    image_file = tf.io.read_file(os.path.join(IMAGE_DIR, name))\n",
    "\n",
    "    image = tf.io.decode_jpeg(image_file, channels=3)\n",
    "\n",
    "    image = trans(image.numpy().copy())\n",
    "\n",
    "    image = tf.io.encode_jpeg(image)\n",
    "    tf.io.write_file(os.path.join(AUG_IMG_DIR, name), image)"
   ]
  },
  {
   "cell_type": "code",
   "execution_count": null,
   "id": "61edd301",
   "metadata": {},
   "outputs": [],
   "source": []
  }
 ],
 "metadata": {
  "kernelspec": {
   "display_name": "Python 3 (ipykernel)",
   "language": "python",
   "name": "python3"
  },
  "language_info": {
   "codemirror_mode": {
    "name": "ipython",
    "version": 3
   },
   "file_extension": ".py",
   "mimetype": "text/x-python",
   "name": "python",
   "nbconvert_exporter": "python",
   "pygments_lexer": "ipython3",
   "version": "3.9.18"
  }
 },
 "nbformat": 4,
 "nbformat_minor": 5
}

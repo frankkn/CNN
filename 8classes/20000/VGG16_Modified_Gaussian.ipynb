{
 "cells": [
  {
   "cell_type": "code",
   "execution_count": 1,
   "id": "db36eff6",
   "metadata": {},
   "outputs": [
    {
     "ename": "ImportError",
     "evalue": "DLL load failed while importing _pywrap_py_exception_registry: 找不到指定的程序。",
     "output_type": "error",
     "traceback": [
      "\u001b[1;31m---------------------------------------------------------------------------\u001b[0m",
      "\u001b[1;31mImportError\u001b[0m                               Traceback (most recent call last)",
      "\u001b[1;32m~\\AppData\\Local\\Temp\\ipykernel_23784\\601006625.py\u001b[0m in \u001b[0;36m<cell line: 7>\u001b[1;34m()\u001b[0m\n\u001b[0;32m      5\u001b[0m \u001b[1;32mfrom\u001b[0m \u001b[0mdataclasses\u001b[0m \u001b[1;32mimport\u001b[0m \u001b[0mdataclass\u001b[0m\u001b[1;33m\u001b[0m\u001b[1;33m\u001b[0m\u001b[0m\n\u001b[0;32m      6\u001b[0m \u001b[1;33m\u001b[0m\u001b[0m\n\u001b[1;32m----> 7\u001b[1;33m \u001b[1;32mimport\u001b[0m \u001b[0mtensorflow\u001b[0m \u001b[1;32mas\u001b[0m \u001b[0mtf\u001b[0m\u001b[1;33m\u001b[0m\u001b[1;33m\u001b[0m\u001b[0m\n\u001b[0m\u001b[0;32m      8\u001b[0m \u001b[1;32mfrom\u001b[0m \u001b[0mtensorflow\u001b[0m\u001b[1;33m.\u001b[0m\u001b[0mkeras\u001b[0m \u001b[1;32mimport\u001b[0m \u001b[0mutils\u001b[0m\u001b[1;33m,\u001b[0m \u001b[0mdatasets\u001b[0m\u001b[1;33m,\u001b[0m \u001b[0mlayers\u001b[0m\u001b[1;33m,\u001b[0m \u001b[0mmodels\u001b[0m\u001b[1;33m\u001b[0m\u001b[1;33m\u001b[0m\u001b[0m\n\u001b[0;32m      9\u001b[0m \u001b[1;32mfrom\u001b[0m \u001b[0mtensorflow\u001b[0m\u001b[1;33m.\u001b[0m\u001b[0mkeras\u001b[0m\u001b[1;33m.\u001b[0m\u001b[0mapplications\u001b[0m\u001b[1;33m.\u001b[0m\u001b[0mvgg16\u001b[0m \u001b[1;32mimport\u001b[0m \u001b[0mVGG16\u001b[0m\u001b[1;33m\u001b[0m\u001b[1;33m\u001b[0m\u001b[0m\n",
      "\u001b[1;32m~\\AppData\\Roaming\\Python\\Python38\\site-packages\\tensorflow\\__init__.py\u001b[0m in \u001b[0;36m<module>\u001b[1;34m\u001b[0m\n\u001b[0;32m     35\u001b[0m \u001b[1;32mimport\u001b[0m \u001b[0mtyping\u001b[0m \u001b[1;32mas\u001b[0m \u001b[0m_typing\u001b[0m\u001b[1;33m\u001b[0m\u001b[1;33m\u001b[0m\u001b[0m\n\u001b[0;32m     36\u001b[0m \u001b[1;33m\u001b[0m\u001b[0m\n\u001b[1;32m---> 37\u001b[1;33m \u001b[1;32mfrom\u001b[0m \u001b[0mtensorflow\u001b[0m\u001b[1;33m.\u001b[0m\u001b[0mpython\u001b[0m\u001b[1;33m.\u001b[0m\u001b[0mtools\u001b[0m \u001b[1;32mimport\u001b[0m \u001b[0mmodule_util\u001b[0m \u001b[1;32mas\u001b[0m \u001b[0m_module_util\u001b[0m\u001b[1;33m\u001b[0m\u001b[1;33m\u001b[0m\u001b[0m\n\u001b[0m\u001b[0;32m     38\u001b[0m \u001b[1;32mfrom\u001b[0m \u001b[0mtensorflow\u001b[0m\u001b[1;33m.\u001b[0m\u001b[0mpython\u001b[0m\u001b[1;33m.\u001b[0m\u001b[0mutil\u001b[0m\u001b[1;33m.\u001b[0m\u001b[0mlazy_loader\u001b[0m \u001b[1;32mimport\u001b[0m \u001b[0mLazyLoader\u001b[0m \u001b[1;32mas\u001b[0m \u001b[0m_LazyLoader\u001b[0m\u001b[1;33m\u001b[0m\u001b[1;33m\u001b[0m\u001b[0m\n\u001b[0;32m     39\u001b[0m \u001b[1;33m\u001b[0m\u001b[0m\n",
      "\u001b[1;32m~\\AppData\\Roaming\\Python\\Python38\\site-packages\\tensorflow\\python\\__init__.py\u001b[0m in \u001b[0;36m<module>\u001b[1;34m\u001b[0m\n\u001b[0;32m     35\u001b[0m \u001b[1;33m\u001b[0m\u001b[0m\n\u001b[0;32m     36\u001b[0m \u001b[1;32mfrom\u001b[0m \u001b[0mtensorflow\u001b[0m\u001b[1;33m.\u001b[0m\u001b[0mpython\u001b[0m \u001b[1;32mimport\u001b[0m \u001b[0mpywrap_tensorflow\u001b[0m \u001b[1;32mas\u001b[0m \u001b[0m_pywrap_tensorflow\u001b[0m\u001b[1;33m\u001b[0m\u001b[1;33m\u001b[0m\u001b[0m\n\u001b[1;32m---> 37\u001b[1;33m \u001b[1;32mfrom\u001b[0m \u001b[0mtensorflow\u001b[0m\u001b[1;33m.\u001b[0m\u001b[0mpython\u001b[0m\u001b[1;33m.\u001b[0m\u001b[0meager\u001b[0m \u001b[1;32mimport\u001b[0m \u001b[0mcontext\u001b[0m\u001b[1;33m\u001b[0m\u001b[1;33m\u001b[0m\u001b[0m\n\u001b[0m\u001b[0;32m     38\u001b[0m \u001b[1;33m\u001b[0m\u001b[0m\n\u001b[0;32m     39\u001b[0m \u001b[1;31m# pylint: enable=wildcard-import\u001b[0m\u001b[1;33m\u001b[0m\u001b[1;33m\u001b[0m\u001b[1;33m\u001b[0m\u001b[0m\n",
      "\u001b[1;32m~\\AppData\\Roaming\\Python\\Python38\\site-packages\\tensorflow\\python\\eager\\context.py\u001b[0m in \u001b[0;36m<module>\u001b[1;34m\u001b[0m\n\u001b[0;32m     34\u001b[0m \u001b[1;32mfrom\u001b[0m \u001b[0mtensorflow\u001b[0m\u001b[1;33m.\u001b[0m\u001b[0mpython\u001b[0m\u001b[1;33m.\u001b[0m\u001b[0mclient\u001b[0m \u001b[1;32mimport\u001b[0m \u001b[0mpywrap_tf_session\u001b[0m\u001b[1;33m\u001b[0m\u001b[1;33m\u001b[0m\u001b[0m\n\u001b[0;32m     35\u001b[0m \u001b[1;32mfrom\u001b[0m \u001b[0mtensorflow\u001b[0m\u001b[1;33m.\u001b[0m\u001b[0mpython\u001b[0m\u001b[1;33m.\u001b[0m\u001b[0meager\u001b[0m \u001b[1;32mimport\u001b[0m \u001b[0mcancellation\u001b[0m\u001b[1;33m\u001b[0m\u001b[1;33m\u001b[0m\u001b[0m\n\u001b[1;32m---> 36\u001b[1;33m \u001b[1;32mfrom\u001b[0m \u001b[0mtensorflow\u001b[0m\u001b[1;33m.\u001b[0m\u001b[0mpython\u001b[0m\u001b[1;33m.\u001b[0m\u001b[0meager\u001b[0m \u001b[1;32mimport\u001b[0m \u001b[0mexecute\u001b[0m\u001b[1;33m\u001b[0m\u001b[1;33m\u001b[0m\u001b[0m\n\u001b[0m\u001b[0;32m     37\u001b[0m \u001b[1;32mfrom\u001b[0m \u001b[0mtensorflow\u001b[0m\u001b[1;33m.\u001b[0m\u001b[0mpython\u001b[0m\u001b[1;33m.\u001b[0m\u001b[0meager\u001b[0m \u001b[1;32mimport\u001b[0m \u001b[0mexecutor\u001b[0m\u001b[1;33m\u001b[0m\u001b[1;33m\u001b[0m\u001b[0m\n\u001b[0;32m     38\u001b[0m \u001b[1;32mfrom\u001b[0m \u001b[0mtensorflow\u001b[0m\u001b[1;33m.\u001b[0m\u001b[0mpython\u001b[0m\u001b[1;33m.\u001b[0m\u001b[0meager\u001b[0m \u001b[1;32mimport\u001b[0m \u001b[0mmonitoring\u001b[0m\u001b[1;33m\u001b[0m\u001b[1;33m\u001b[0m\u001b[0m\n",
      "\u001b[1;32m~\\AppData\\Roaming\\Python\\Python38\\site-packages\\tensorflow\\python\\eager\\execute.py\u001b[0m in \u001b[0;36m<module>\u001b[1;34m\u001b[0m\n\u001b[0;32m     18\u001b[0m \u001b[1;32mfrom\u001b[0m \u001b[0mtensorflow\u001b[0m\u001b[1;33m.\u001b[0m\u001b[0mcore\u001b[0m\u001b[1;33m.\u001b[0m\u001b[0mframework\u001b[0m \u001b[1;32mimport\u001b[0m \u001b[0mtensor_pb2\u001b[0m\u001b[1;33m\u001b[0m\u001b[1;33m\u001b[0m\u001b[0m\n\u001b[0;32m     19\u001b[0m \u001b[1;32mfrom\u001b[0m \u001b[0mtensorflow\u001b[0m\u001b[1;33m.\u001b[0m\u001b[0mpython\u001b[0m \u001b[1;32mimport\u001b[0m \u001b[0mpywrap_tfe\u001b[0m\u001b[1;33m\u001b[0m\u001b[1;33m\u001b[0m\u001b[0m\n\u001b[1;32m---> 20\u001b[1;33m \u001b[1;32mfrom\u001b[0m \u001b[0mtensorflow\u001b[0m\u001b[1;33m.\u001b[0m\u001b[0mpython\u001b[0m\u001b[1;33m.\u001b[0m\u001b[0meager\u001b[0m \u001b[1;32mimport\u001b[0m \u001b[0mcore\u001b[0m\u001b[1;33m\u001b[0m\u001b[1;33m\u001b[0m\u001b[0m\n\u001b[0m\u001b[0;32m     21\u001b[0m \u001b[1;32mfrom\u001b[0m \u001b[0mtensorflow\u001b[0m\u001b[1;33m.\u001b[0m\u001b[0mpython\u001b[0m\u001b[1;33m.\u001b[0m\u001b[0mframework\u001b[0m \u001b[1;32mimport\u001b[0m \u001b[0mdtypes\u001b[0m\u001b[1;33m\u001b[0m\u001b[1;33m\u001b[0m\u001b[0m\n\u001b[0;32m     22\u001b[0m \u001b[1;32mfrom\u001b[0m \u001b[0mtensorflow\u001b[0m\u001b[1;33m.\u001b[0m\u001b[0mpython\u001b[0m\u001b[1;33m.\u001b[0m\u001b[0mframework\u001b[0m \u001b[1;32mimport\u001b[0m \u001b[0mtensor_conversion_registry\u001b[0m\u001b[1;33m\u001b[0m\u001b[1;33m\u001b[0m\u001b[0m\n",
      "\u001b[1;32m~\\AppData\\Roaming\\Python\\Python38\\site-packages\\tensorflow\\python\\eager\\core.py\u001b[0m in \u001b[0;36m<module>\u001b[1;34m\u001b[0m\n\u001b[0;32m     16\u001b[0m \u001b[1;33m\u001b[0m\u001b[0m\n\u001b[0;32m     17\u001b[0m \u001b[1;32mfrom\u001b[0m \u001b[0mtensorflow\u001b[0m\u001b[1;33m.\u001b[0m\u001b[0mpython\u001b[0m \u001b[1;32mimport\u001b[0m \u001b[0mpywrap_tfe\u001b[0m\u001b[1;33m\u001b[0m\u001b[1;33m\u001b[0m\u001b[0m\n\u001b[1;32m---> 18\u001b[1;33m \u001b[1;32mfrom\u001b[0m \u001b[0mtensorflow\u001b[0m\u001b[1;33m.\u001b[0m\u001b[0mpython\u001b[0m\u001b[1;33m.\u001b[0m\u001b[0mframework\u001b[0m \u001b[1;32mimport\u001b[0m \u001b[0merrors\u001b[0m\u001b[1;33m\u001b[0m\u001b[1;33m\u001b[0m\u001b[0m\n\u001b[0m\u001b[0;32m     19\u001b[0m \u001b[1;32mfrom\u001b[0m \u001b[0mtensorflow\u001b[0m\u001b[1;33m.\u001b[0m\u001b[0mpython\u001b[0m\u001b[1;33m.\u001b[0m\u001b[0mplatform\u001b[0m \u001b[1;32mimport\u001b[0m \u001b[0mtf_logging\u001b[0m \u001b[1;32mas\u001b[0m \u001b[0mlogging\u001b[0m\u001b[1;33m\u001b[0m\u001b[1;33m\u001b[0m\u001b[0m\n\u001b[0;32m     20\u001b[0m \u001b[1;33m\u001b[0m\u001b[0m\n",
      "\u001b[1;32m~\\AppData\\Roaming\\Python\\Python38\\site-packages\\tensorflow\\python\\framework\\errors.py\u001b[0m in \u001b[0;36m<module>\u001b[1;34m\u001b[0m\n\u001b[0;32m     16\u001b[0m \u001b[1;33m\u001b[0m\u001b[0m\n\u001b[0;32m     17\u001b[0m \u001b[1;31m# pylint: disable=unused-import\u001b[0m\u001b[1;33m\u001b[0m\u001b[1;33m\u001b[0m\u001b[1;33m\u001b[0m\u001b[0m\n\u001b[1;32m---> 18\u001b[1;33m \u001b[1;32mfrom\u001b[0m \u001b[0mtensorflow\u001b[0m\u001b[1;33m.\u001b[0m\u001b[0mpython\u001b[0m\u001b[1;33m.\u001b[0m\u001b[0mframework\u001b[0m \u001b[1;32mimport\u001b[0m \u001b[0merrors_impl\u001b[0m \u001b[1;32mas\u001b[0m \u001b[0m_impl\u001b[0m\u001b[1;33m\u001b[0m\u001b[1;33m\u001b[0m\u001b[0m\n\u001b[0m\u001b[0;32m     19\u001b[0m \u001b[1;31m# pylint: enable=unused-import\u001b[0m\u001b[1;33m\u001b[0m\u001b[1;33m\u001b[0m\u001b[1;33m\u001b[0m\u001b[0m\n\u001b[0;32m     20\u001b[0m \u001b[1;31m# go/tf-wildcard-import\u001b[0m\u001b[1;33m\u001b[0m\u001b[1;33m\u001b[0m\u001b[1;33m\u001b[0m\u001b[0m\n",
      "\u001b[1;32m~\\AppData\\Roaming\\Python\\Python38\\site-packages\\tensorflow\\python\\framework\\errors_impl.py\u001b[0m in \u001b[0;36m<module>\u001b[1;34m\u001b[0m\n\u001b[0;32m     19\u001b[0m \u001b[1;33m\u001b[0m\u001b[0m\n\u001b[0;32m     20\u001b[0m \u001b[1;32mfrom\u001b[0m \u001b[0mtensorflow\u001b[0m\u001b[1;33m.\u001b[0m\u001b[0mcore\u001b[0m\u001b[1;33m.\u001b[0m\u001b[0mlib\u001b[0m\u001b[1;33m.\u001b[0m\u001b[0mcore\u001b[0m \u001b[1;32mimport\u001b[0m \u001b[0merror_codes_pb2\u001b[0m\u001b[1;33m\u001b[0m\u001b[1;33m\u001b[0m\u001b[0m\n\u001b[1;32m---> 21\u001b[1;33m \u001b[1;32mfrom\u001b[0m \u001b[0mtensorflow\u001b[0m\u001b[1;33m.\u001b[0m\u001b[0mpython\u001b[0m \u001b[1;32mimport\u001b[0m \u001b[0m_pywrap_py_exception_registry\u001b[0m\u001b[1;33m\u001b[0m\u001b[1;33m\u001b[0m\u001b[0m\n\u001b[0m\u001b[0;32m     22\u001b[0m \u001b[1;32mfrom\u001b[0m \u001b[0mtensorflow\u001b[0m\u001b[1;33m.\u001b[0m\u001b[0mpython\u001b[0m\u001b[1;33m.\u001b[0m\u001b[0mclient\u001b[0m \u001b[1;32mimport\u001b[0m \u001b[0mpywrap_tf_session\u001b[0m \u001b[1;32mas\u001b[0m \u001b[0mc_api\u001b[0m\u001b[1;33m\u001b[0m\u001b[1;33m\u001b[0m\u001b[0m\n\u001b[0;32m     23\u001b[0m \u001b[1;32mfrom\u001b[0m \u001b[0mtensorflow\u001b[0m\u001b[1;33m.\u001b[0m\u001b[0mpython\u001b[0m\u001b[1;33m.\u001b[0m\u001b[0mframework\u001b[0m \u001b[1;32mimport\u001b[0m \u001b[0mc_api_util\u001b[0m\u001b[1;33m\u001b[0m\u001b[1;33m\u001b[0m\u001b[0m\n",
      "\u001b[1;31mImportError\u001b[0m: DLL load failed while importing _pywrap_py_exception_registry: 找不到指定的程序。"
     ]
    }
   ],
   "source": [
    "import os\n",
    "import warnings\n",
    "warnings.filterwarnings(\"ignore\")\n",
    "os.environ['TF_CPP_MIN_LOG_LEVEL'] = '2' \n",
    "from dataclasses import dataclass\n",
    "\n",
    "import tensorflow as tf\n",
    "from tensorflow.keras import utils, datasets, layers, models\n",
    "from tensorflow.keras.applications.vgg16 import VGG16\n",
    "\n",
    "from sklearn.utils import shuffle\n",
    "from sklearn.model_selection import train_test_split\n",
    "\n",
    "import IPython.display as display\n",
    "import matplotlib.pyplot as plt\n",
    "\n",
    "from pathlib import Path\n",
    "\n",
    "import random\n",
    "import numpy as np\n",
    "import matplotlib as mpl\n",
    "\n",
    "import csv\n",
    "import pandas as pd\n",
    "import math\n",
    "from tqdm import tqdm\n",
    "\n",
    "import itertools\n",
    "from collections import defaultdict\n",
    "\n",
    "from sklearn.metrics import confusion_matrix\n",
    "import seaborn as sns\n",
    "\n",
    "from skopt import Optimizer\n",
    "from skopt.space import Real, Integer, Categorical\n",
    "from skopt.utils import use_named_args"
   ]
  },
  {
   "cell_type": "code",
   "execution_count": null,
   "id": "2d4fdc6d",
   "metadata": {},
   "outputs": [],
   "source": [
    "@dataclass\n",
    "class ConstParams:\n",
    "    MODEL_NAME = \"VGG16_Modified_Gaussian\"\n",
    "\n",
    "@dataclass\n",
    "class HParams:\n",
    "    IMAGE_HEIGHT = 224\n",
    "    IMAGE_WIDTH = 224\n",
    "    IMAGE_DEPTH = 3\n",
    "    \n",
    "    BUFFER_SIZE = 100\n",
    "    BATCH_SIZE = 64\n",
    "    \n",
    "    SEED = 42\n",
    "    RANDOM_STATE = 42\n",
    "    \n",
    "    NUM_EPOCH = 50\n",
    "    LEARNING_RATE = 1e-5\n",
    "\n",
    "@dataclass\n",
    "class Paths:\n",
    "    DATA_ROOT: Path = Path(\"./dataset\")\n",
    "    CHECKPOINT_DIR: Path = Path(\"./checkpoint/\" + ConstParams.MODEL_NAME)\n",
    "    BEST_CHECKPOINT_DIR: Path = Path(\"./checkpoint/\" + ConstParams.MODEL_NAME + \"/best\")\n",
    "    # save (img_path, label) pairs\n",
    "    TRAIN_CSV_PATH: Path = Path(\"./csv/train.csv\")\n",
    "    VAL_CSV_PATH: Path = Path(\"./csv/val.csv\")\n",
    "    TEST_CSV_PATH: Path = Path(\"./csv/test.csv\")"
   ]
  },
  {
   "cell_type": "code",
   "execution_count": null,
   "id": "7fd231e8",
   "metadata": {},
   "outputs": [],
   "source": [
    "tf.random.set_seed(HParams.SEED)\n",
    "np.random.seed(HParams.SEED)\n",
    "random.seed(HParams.SEED)\n",
    "\n",
    "if not Path(\"./dataset\").exists():\n",
    "    Path.mkdir(Path(\"./dataset\"))\n",
    "\n",
    "if not Path(\"./checkpoint\").exists():\n",
    "    Path.mkdir(Path(\"./checkpoint\"))\n",
    "\n",
    "if not Path(\"./csv\").exists():\n",
    "    Path.mkdir(Path(\"./csv\"))\n",
    "\n",
    "if not Paths.CHECKPOINT_DIR.exists():\n",
    "    Path.mkdir(Paths.CHECKPOINT_DIR)\n",
    "\n",
    "if not Paths.BEST_CHECKPOINT_DIR.exists():\n",
    "    Path.mkdir(Paths.BEST_CHECKPOINT_DIR)"
   ]
  },
  {
   "cell_type": "code",
   "execution_count": null,
   "id": "a4b96740",
   "metadata": {},
   "outputs": [],
   "source": [
    "# print the subfolders.\n",
    "print('classes:')\n",
    "for item in Paths.DATA_ROOT.iterdir():\n",
    "    print(item)\n",
    "    \n",
    "all_image_paths = list(Paths.DATA_ROOT.glob('*/*'))\n",
    "all_image_paths = [str(path) for path in all_image_paths]\n",
    "all_image_paths = shuffle(all_image_paths, random_state=HParams.RANDOM_STATE)\n",
    "# all_image_paths = [path for path in all_image_paths if path[-3:] not in ('gif', 'bmp', 'ini')]\n",
    "all_image_paths = [path for path in all_image_paths if os.path.splitext(path)[1][1:] in ('jpg', 'JPG')]\n",
    "\n",
    "image_count = len(all_image_paths)\n",
    "print('\\ntotal img num:', image_count)\n",
    "# print(f'all image path = {all_image_paths}')"
   ]
  },
  {
   "cell_type": "code",
   "execution_count": null,
   "id": "926cc04a",
   "metadata": {},
   "outputs": [],
   "source": [
    "# random showing 3 iamges\n",
    "for n in range(3):\n",
    "    image_path = random.choice(all_image_paths)\n",
    "    display.display(display.Image(image_path, width=200, height=200))\n",
    "    print(image_path.split('\\\\')[-2])\n",
    "    # print(image_path.split(os.path.sep)[-2])\n",
    "    # print(image_path.split('/')[-2])"
   ]
  },
  {
   "cell_type": "code",
   "execution_count": null,
   "id": "96a817f6",
   "metadata": {},
   "outputs": [],
   "source": [
    "# get the label\n",
    "label_names = sorted(item.name for item in Paths.DATA_ROOT.glob('*/') if item.is_dir())\n",
    "# total label\n",
    "n_classes = len(label_names)\n",
    "print(label_names)"
   ]
  },
  {
   "cell_type": "code",
   "execution_count": null,
   "id": "bf90c3a3",
   "metadata": {},
   "outputs": [],
   "source": [
    "# get the mapping dict\n",
    "label_to_index = dict((name, index) for index,name in enumerate(label_names))\n",
    "index_to_label = dict((index, name) for index,name in enumerate(label_names))\n",
    "print(label_to_index)"
   ]
  },
  {
   "cell_type": "code",
   "execution_count": null,
   "id": "4d3f2430",
   "metadata": {},
   "outputs": [],
   "source": [
    "# get the label data\n",
    "all_image_label = [label_to_index[Path(path).parent.name] for path in all_image_paths]\n",
    "print(\"First 10 label indices: \", all_image_label[:10])"
   ]
  },
  {
   "cell_type": "code",
   "execution_count": null,
   "id": "d3832732",
   "metadata": {},
   "outputs": [],
   "source": [
    "# Create train:val:test datasets using an 80-10-10 split\n",
    "img_path_train, img_path_val_and_test, label_train, label_val_and_test = train_test_split(all_image_paths, \n",
    "                                                                                          all_image_label,\n",
    "                                                                                          test_size=0.2,\n",
    "                                                                                          random_state=HParams.RANDOM_STATE)\n",
    "img_path_val, img_path_test, label_val, label_test = train_test_split(img_path_val_and_test, \n",
    "                                                                      label_val_and_test, \n",
    "                                                                      test_size=0.5, \n",
    "                                                                      random_state=HParams.RANDOM_STATE)\n",
    "\n",
    "\n",
    "print('training data: %d'%(len(img_path_train)))\n",
    "print('validation data: %d'%(len(img_path_val)))\n",
    "print('testing data: %d'%(len(img_path_test)))"
   ]
  },
  {
   "cell_type": "code",
   "execution_count": null,
   "id": "3b5a3617",
   "metadata": {},
   "outputs": [],
   "source": [
    "pairs_ready = True\n",
    "\n",
    "if pairs_ready != True:\n",
    "    # save (img_path, label) pairs\n",
    "    with open(Paths.TRAIN_CSV_PATH, 'w', newline='', encoding='utf-8') as csvfile:\n",
    "        writer = csv.writer(csvfile)\n",
    "        writer.writerow(['img_path', 'label'])\n",
    "        for img_path, label in zip(img_path_train, label_train):\n",
    "            writer.writerow([img_path, label])\n",
    "\n",
    "    with open(Paths.VAL_CSV_PATH, 'w', newline='', encoding='utf-8') as csvfile:\n",
    "        writer = csv.writer(csvfile)\n",
    "        writer.writerow(['img_path', 'label'])\n",
    "        for img_path, label in zip(img_path_val, label_val):\n",
    "            writer.writerow([img_path, label])\n",
    "\n",
    "    with open(Paths.TEST_CSV_PATH, 'w', newline='', encoding='utf-8') as csvfile:\n",
    "        writer = csv.writer(csvfile)\n",
    "        writer.writerow(['img_path', 'label'])\n",
    "        for img_path, label in zip(img_path_test, label_test):\n",
    "            writer.writerow([img_path, label])"
   ]
  },
  {
   "cell_type": "code",
   "execution_count": null,
   "id": "f07a0182",
   "metadata": {},
   "outputs": [],
   "source": [
    "class SimpleDataset(tf.data.Dataset):\n",
    "    OUTPUT_SIGNATURE = (\n",
    "        tf.TensorSpec(shape=(HParams.IMAGE_HEIGHT, HParams.IMAGE_WIDTH, 3), dtype=tf.float32),\n",
    "        tf.TensorSpec(shape=(), dtype=tf.int32)\n",
    "    )\n",
    "\n",
    "    _INSTANCES_COUNTER = itertools.count()  # Number of datasets generated\n",
    "    _EPOCHS_COUNTER = defaultdict(itertools.count)  # Number of epochs done for each dataset\n",
    "\n",
    "    def _generator(instance_idx, filename, open_file, read_file):\n",
    "        epoch_idx = next(SimpleDataset._EPOCHS_COUNTER[instance_idx])\n",
    "\n",
    "        # Opening the file\n",
    "        img_paths, label = open_file(filename)\n",
    "\n",
    "        # Reading the file\n",
    "        for sample_idx in range(len(img_paths)):\n",
    "            img = read_file(img_paths[sample_idx])\n",
    "            yield img, label[sample_idx]\n",
    "\n",
    "    def __new__(cls, filename, open_file, read_file):\n",
    "        def generator_func(instance_idx, filename):\n",
    "            return cls._generator(instance_idx, filename, open_file, read_file)\n",
    "\n",
    "        return tf.data.Dataset.from_generator(\n",
    "            generator_func,\n",
    "            output_signature=cls.OUTPUT_SIGNATURE,\n",
    "            args=(next(cls._INSTANCES_COUNTER), filename)\n",
    "        )\n"
   ]
  },
  {
   "cell_type": "code",
   "execution_count": null,
   "id": "9d66a295",
   "metadata": {},
   "outputs": [],
   "source": [
    "def open_file(filename):\n",
    "    rows = pd.read_csv(filename.decode(\"utf-8\"))\n",
    "    img_paths = rows['img_path'].tolist()\n",
    "    label = rows['label'].tolist()\n",
    "    return img_paths, label\n",
    "\n",
    "def read_file(image_path):\n",
    "    img = tf.io.read_file(image_path)\n",
    "    img = tf.image.decode_jpeg(img, channels=HParams.IMAGE_DEPTH)\n",
    "    img = tf.image.resize(img, (HParams.IMAGE_HEIGHT, HParams.IMAGE_WIDTH))\n",
    "    img = tf.cast(img, tf.float32)\n",
    "    img = tf.divide(img,255.0)\n",
    "    return img\n",
    "\n",
    "def dataset_generator_fun_train(*args):\n",
    "    return SimpleDataset(str(Paths.TRAIN_CSV_PATH), open_file, read_file)\n",
    "\n",
    "def dataset_generator_fun_val(*args):\n",
    "    return SimpleDataset(str(Paths.VAL_CSV_PATH), open_file, read_file)\n",
    "\n",
    "def dataset_generator_fun_test(*args):\n",
    "    return SimpleDataset(str(Paths.TEST_CSV_PATH), open_file, read_file)"
   ]
  },
  {
   "cell_type": "code",
   "execution_count": null,
   "id": "935c40d0",
   "metadata": {},
   "outputs": [],
   "source": [
    "# parse training data\n",
    "@tf.function\n",
    "def map_fun(image, label):\n",
    "    distorted_image = tf.image.random_flip_left_right(image)\n",
    "    distorted_image = tf.image.random_brightness(distorted_image, max_delta=60)\n",
    "    distorted_image = tf.image.random_contrast(distorted_image, lower=0.2, upper=1.8)\n",
    "    distorted_image = tf.image.per_image_standardization(distorted_image)\n",
    "\n",
    "    return distorted_image, label\n",
    "\n",
    "# parse validation data\n",
    "@tf.function\n",
    "def map_fun_val(image, label):\n",
    "    distorted_image = tf.image.per_image_standardization(image)\n",
    "\n",
    "    return distorted_image, label\n",
    "\n",
    "# parse testing data\n",
    "@tf.function\n",
    "def map_fun_test(image, label):\n",
    "    distorted_image = tf.image.per_image_standardization(image)\n",
    "\n",
    "    return distorted_image, label"
   ]
  },
  {
   "cell_type": "code",
   "execution_count": null,
   "id": "3d12624e",
   "metadata": {},
   "outputs": [],
   "source": [
    "dataset_train = tf.data.Dataset.range(1)\\\n",
    "                                .interleave(dataset_generator_fun_train, num_parallel_calls=tf.data.AUTOTUNE)\\\n",
    "                                .shuffle(HParams.BUFFER_SIZE, seed=HParams.SEED)\\\n",
    "                                .batch(HParams.BATCH_SIZE, drop_remainder=True)\\\n",
    "                                .map(map_fun, num_parallel_calls=tf.data.AUTOTUNE)\\\n",
    "                                .cache()\\\n",
    "                                .prefetch(tf.data.AUTOTUNE)\n",
    "\n",
    "dataset_val = tf.data.Dataset.range(1)\\\n",
    "                                .interleave(dataset_generator_fun_val, num_parallel_calls=tf.data.AUTOTUNE)\\\n",
    "                                .batch(HParams.BATCH_SIZE, drop_remainder=True)\\\n",
    "                                .shuffle(HParams.BUFFER_SIZE, seed=HParams.SEED)\\\n",
    "                                .map(map_fun_val, num_parallel_calls=tf.data.AUTOTUNE)\\\n",
    "                                .cache()\\\n",
    "                                .prefetch(tf.data.AUTOTUNE)\n",
    "\n",
    "dataset_test = tf.data.Dataset.range(1)\\\n",
    "                                .interleave(dataset_generator_fun_test, num_parallel_calls=tf.data.AUTOTUNE)\\\n",
    "                                .batch(HParams.BATCH_SIZE, drop_remainder=True)\\\n",
    "                                .map(map_fun_test, num_parallel_calls=tf.data.AUTOTUNE)\\\n",
    "                                .cache()\\\n",
    "                                .prefetch(tf.data.AUTOTUNE)"
   ]
  },
  {
   "cell_type": "code",
   "execution_count": null,
   "id": "aa0f073f",
   "metadata": {},
   "outputs": [],
   "source": [
    "for img, label in dataset_train.take(1):\n",
    "    print(img[0].shape)\n",
    "    plt.imshow(img[0]) \n",
    "    plt.axis('off') \n",
    "    plt.show()\n",
    "    print(index_to_label[label[0].numpy()])"
   ]
  },
  {
   "cell_type": "code",
   "execution_count": null,
   "id": "eb68fe2e",
   "metadata": {},
   "outputs": [],
   "source": [
    "def create_model(params):\n",
    "    n_conv_layers = params[0]  # Get the number of convolutional layers\n",
    "    base_model = VGG16(weights='imagenet', include_top=False, input_shape=(HParams.IMAGE_HEIGHT, HParams.IMAGE_WIDTH, HParams.IMAGE_DEPTH))\n",
    "\n",
    "    # Freeze the base model\n",
    "    base_model.trainable = False\n",
    "\n",
    "    model = models.Sequential()\n",
    "    model.add(base_model)\n",
    "    \n",
    "    # Add convolutional layers based on the parameter\n",
    "    for i in range(n_conv_layers):\n",
    "        n_filters = params[i + 1]\n",
    "        kernel_size = params[i + 4]\n",
    "        model.add(layers.Conv2D(n_filters, kernel_size, activation='relu', padding='same'))\n",
    "        # model.add(layers.MaxPooling2D(pool_size=(2, 2)))\n",
    "    \n",
    "    model.add(layers.Flatten())\n",
    "\n",
    "    # Single dense layer\n",
    "    model.add(layers.Dense(params[7], activation='relu'))\n",
    "    model.add(layers.Dropout(0.5))\n",
    "    model.add(layers.Dense(n_classes, activation='softmax'))\n",
    "\n",
    "    # Tune the learning rate\n",
    "    learning_rate = params[8]  \n",
    "    \n",
    "    model.compile(optimizer=tf.keras.optimizers.Adam(learning_rate=learning_rate),\n",
    "                  loss='sparse_categorical_crossentropy',\n",
    "                  metrics=['accuracy'])\n",
    "    \n",
    "    return model\n",
    "\n",
    "def objective(*params):\n",
    "    try:\n",
    "#         # Check constraint: n_filters_2 >= n_filters_1 >= n_filters_0\n",
    "#         if params[3] < params[2] or params[2] < params[1]:\n",
    "#             return float('inf')  # If constraint is violated, return a large value\n",
    "        \n",
    "        # Use params to build and train the model\n",
    "        model = create_model(params)  # Assuming create_model function accepts parameters as arguments\n",
    "        model.fit(dataset_train, validation_data=dataset_val, epochs=10, verbose=0)\n",
    "        _, accuracy = model.evaluate(dataset_val)\n",
    "        return -accuracy  # Minimize negative accuracy\n",
    "    except Exception as e:\n",
    "        print(f\"Trial failed with error: {e}\")\n",
    "        return np.inf  # Return infinity to indicate failure"
   ]
  },
  {
   "cell_type": "code",
   "execution_count": null,
   "id": "f75e71d1",
   "metadata": {},
   "outputs": [],
   "source": [
    "# Define the search space\n",
    "space = [\n",
    "    Integer(1, 3, name='n_conv_layers'),        # 卷積層數量\n",
    "    Categorical([32, 64, 128, 256, 512, 1024], name='n_filters_0'),        # 第一個卷積層的濾波器數量\n",
    "    Categorical([32, 64, 128, 256, 512, 1024], name='n_filters_1'),       # 第二個卷積層的濾波器數量\n",
    "    Categorical([32, 64, 128, 256, 512, 1024], name='n_filters_2'),      # 第三個卷積層的濾波器數量\n",
    "    Categorical([(3, 3), (5, 5)], name='kernel_size_0'),  # 第一個卷積層的卷積核大小\n",
    "    Categorical([(3, 3), (5, 5)], name='kernel_size_1'),  # 第二個卷積層的卷積核大小\n",
    "    Categorical([(3, 3), (5, 5)], name='kernel_size_2'),  # 第三個卷積層的卷積核大小\n",
    "    Categorical([32, 64, 128, 256, 512, 1024], name='n_units1'),           # 全連接層的神經元數量\n",
    "    Real(1e-5, 1e-2, \"log-uniform\", name='learning_rate') # 學習率\n",
    "]\n",
    "\n",
    "# Create the optimizer with increased random starts\n",
    "opt = Optimizer(space, base_estimator=\"GP\", acq_func=\"EI\", acq_optimizer=\"auto\", n_random_starts=1)\n",
    "\n",
    "# Run optimization\n",
    "NUM_ITERATIONS = 1\n",
    "best_obj_value = float('inf')  # 初始值為正無窮大\n",
    "best_params = None\n",
    "\n",
    "for iteration in range(NUM_ITERATIONS):\n",
    "    x = opt.ask()\n",
    "    try:\n",
    "        f_val = objective(*x)\n",
    "        opt.tell(x, f_val)\n",
    "        print(f\"Iteration {iteration+1}:\")\n",
    "        # Print parameters and objective value for this iteration\n",
    "        for param, value in zip(space, x):\n",
    "            print(f\"{param.name}: {value}\", end=\"\\t\")\n",
    "        print(f\"Objective value: {f_val}\")\n",
    "        \n",
    "        # Check if this iteration has the best objective value so far\n",
    "        if f_val < best_obj_value:\n",
    "            best_obj_value = f_val\n",
    "            best_params = x\n",
    "        \n",
    "    except (ValueError, TypeError) as e:\n",
    "        print(f\"Iteration {iteration+1}: Trial failed with error: {e}\")\n",
    "        continue\n",
    "    except AttributeError:\n",
    "        print(\"Error occurred while extracting best parameters.\")\n",
    "        continue\n",
    "\n",
    "# Calculate objective value for best parameters if best_params is not None\n",
    "if best_params is not None:\n",
    "    best_obj_value = objective(*best_params)\n",
    "\n",
    "    # Print best parameters and objective value\n",
    "    print(\"\\nBest parameters:\")\n",
    "    for param, value in zip(space, best_params):\n",
    "        print(f\"{param.name}: {value}\")\n",
    "    print(f\"Objective value for best parameters: {best_obj_value}\")\n",
    "else:\n",
    "    print(\"No feasible parameters found during optimization.\")"
   ]
  },
  {
   "cell_type": "code",
   "execution_count": 44,
   "id": "34e7842a",
   "metadata": {},
   "outputs": [],
   "source": [
    "base_model = VGG16(include_top=False,\n",
    "                   weights='imagenet',\n",
    "                   input_shape=(HParams.IMAGE_HEIGHT, HParams.IMAGE_WIDTH, HParams.IMAGE_DEPTH),\n",
    "                   pooling=None\n",
    "                  )\n",
    "\n",
    "top_model = models.Sequential()\n",
    "\n",
    "top_model.add(layers.Conv2D(filters=32, kernel_size=3, strides=1, padding='same', kernel_regularizer=tf.keras.regularizers.l2(0.01)))\n",
    "top_model.add(layers.LeakyReLU(alpha=0.1))\n",
    "top_model.add(layers.BatchNormalization())\n",
    "\n",
    "top_model.add(layers.Conv2D(filters=64, kernel_size=3, strides=1, padding='same', kernel_regularizer=tf.keras.regularizers.l2(0.01)))\n",
    "top_model.add(layers.LeakyReLU(alpha=0.1))\n",
    "top_model.add(layers.BatchNormalization())\n",
    "\n",
    "top_model.add(layers.Flatten())\n",
    "top_model.add(layers.Dense(64, kernel_initializer=tf.keras.initializers.TruncatedNormal(stddev=0.01)))\n",
    "top_model.add(layers.LeakyReLU(alpha=0.1))\n",
    "top_model.add(layers.Dropout(0.5))\n",
    "top_model.add(layers.Dense(n_classes, activation='softmax', kernel_initializer=tf.keras.initializers.TruncatedNormal(stddev=0.01)))\n",
    "\n",
    "model = tf.keras.Model(inputs=base_model.input, outputs=top_model(base_model.output)) "
   ]
  },
  {
   "cell_type": "code",
   "execution_count": 17,
   "id": "28a0a31b",
   "metadata": {
    "scrolled": true
   },
   "outputs": [
    {
     "name": "stdout",
     "output_type": "stream",
     "text": [
      "Model: \"model\"\n",
      "_________________________________________________________________\n",
      "Layer (type)                 Output Shape              Param #   \n",
      "=================================================================\n",
      "input_1 (InputLayer)         [(None, 224, 224, 3)]     0         \n",
      "_________________________________________________________________\n",
      "block1_conv1 (Conv2D)        (None, 224, 224, 64)      1792      \n",
      "_________________________________________________________________\n",
      "block1_conv2 (Conv2D)        (None, 224, 224, 64)      36928     \n",
      "_________________________________________________________________\n",
      "block1_pool (MaxPooling2D)   (None, 112, 112, 64)      0         \n",
      "_________________________________________________________________\n",
      "block2_conv1 (Conv2D)        (None, 112, 112, 128)     73856     \n",
      "_________________________________________________________________\n",
      "block2_conv2 (Conv2D)        (None, 112, 112, 128)     147584    \n",
      "_________________________________________________________________\n",
      "block2_pool (MaxPooling2D)   (None, 56, 56, 128)       0         \n",
      "_________________________________________________________________\n",
      "block3_conv1 (Conv2D)        (None, 56, 56, 256)       295168    \n",
      "_________________________________________________________________\n",
      "block3_conv2 (Conv2D)        (None, 56, 56, 256)       590080    \n",
      "_________________________________________________________________\n",
      "block3_conv3 (Conv2D)        (None, 56, 56, 256)       590080    \n",
      "_________________________________________________________________\n",
      "block3_pool (MaxPooling2D)   (None, 28, 28, 256)       0         \n",
      "_________________________________________________________________\n",
      "block4_conv1 (Conv2D)        (None, 28, 28, 512)       1180160   \n",
      "_________________________________________________________________\n",
      "block4_conv2 (Conv2D)        (None, 28, 28, 512)       2359808   \n",
      "_________________________________________________________________\n",
      "block4_conv3 (Conv2D)        (None, 28, 28, 512)       2359808   \n",
      "_________________________________________________________________\n",
      "block4_pool (MaxPooling2D)   (None, 14, 14, 512)       0         \n",
      "_________________________________________________________________\n",
      "block5_conv1 (Conv2D)        (None, 14, 14, 512)       2359808   \n",
      "_________________________________________________________________\n",
      "block5_conv2 (Conv2D)        (None, 14, 14, 512)       2359808   \n",
      "_________________________________________________________________\n",
      "block5_conv3 (Conv2D)        (None, 14, 14, 512)       2359808   \n",
      "_________________________________________________________________\n",
      "block5_pool (MaxPooling2D)   (None, 7, 7, 512)         0         \n",
      "_________________________________________________________________\n",
      "sequential (Sequential)      (None, 8)                 367656    \n",
      "=================================================================\n",
      "Total params: 15,082,344\n",
      "Trainable params: 15,082,152\n",
      "Non-trainable params: 192\n",
      "_________________________________________________________________\n"
     ]
    }
   ],
   "source": [
    "model.summary()"
   ]
  },
  {
   "cell_type": "code",
   "execution_count": 18,
   "id": "f9fe1f1b",
   "metadata": {},
   "outputs": [],
   "source": [
    "# define loss and optimizer\n",
    "loss_object = tf.keras.losses.SparseCategoricalCrossentropy(from_logits=True)\n",
    "optimizer = tf.keras.optimizers.Adam(HParams.LEARNING_RATE)\n",
    "\n",
    "train_loss = tf.keras.metrics.Mean(name='train_loss')\n",
    "train_accuracy = tf.keras.metrics.SparseCategoricalAccuracy(name='train_accuracy')\n",
    "\n",
    "val_loss = tf.keras.metrics.Mean(name='val_loss')\n",
    "val_accuracy = tf.keras.metrics.SparseCategoricalAccuracy(name='val_accuracy')\n",
    "\n",
    "test_loss = tf.keras.metrics.Mean(name='test_loss')\n",
    "test_accuracy = tf.keras.metrics.SparseCategoricalAccuracy(name='test_accuracy')"
   ]
  },
  {
   "cell_type": "code",
   "execution_count": 19,
   "id": "932f11e7",
   "metadata": {},
   "outputs": [],
   "source": [
    "@tf.function\n",
    "def train_step(image, label):\n",
    "    with tf.GradientTape() as tape:\n",
    "        predictions = model(image, training=True)\n",
    "        loss = loss_object(label, predictions)\n",
    "    gradients = tape.gradient(loss, model.trainable_variables)\n",
    "    optimizer.apply_gradients(zip(gradients, model.trainable_variables))\n",
    "    \n",
    "#     print(\"Label shape:\", label.shape)\n",
    "#     print(\"Predictions shape:\", predictions.shape)\n",
    "\n",
    "    train_loss(loss)\n",
    "    train_accuracy(label, predictions)\n",
    "    \n",
    "@tf.function\n",
    "def val_step(image, label):\n",
    "    predictions = model(image, training=False)\n",
    "    loss = loss_object(label, predictions)\n",
    "\n",
    "    val_loss(loss)\n",
    "    val_accuracy(label, predictions)\n",
    "    \n",
    "@tf.function\n",
    "def test_step(image, label):\n",
    "    predictions = model(image, training=False)\n",
    "    loss = loss_object(label, predictions)\n",
    "\n",
    "    return loss, label, predictions"
   ]
  },
  {
   "cell_type": "code",
   "execution_count": 20,
   "id": "a33ee625",
   "metadata": {},
   "outputs": [],
   "source": [
    "checkpoint = tf.train.Checkpoint(model=model)\n",
    "ckpt_manager = tf.train.CheckpointManager(\n",
    "    checkpoint, Paths.CHECKPOINT_DIR, max_to_keep=3\n",
    ")\n",
    "best_manager = tf.train.CheckpointManager(\n",
    "    checkpoint, Paths.BEST_CHECKPOINT_DIR, max_to_keep=1\n",
    ")"
   ]
  },
  {
   "cell_type": "code",
   "execution_count": 21,
   "id": "362b8ab8",
   "metadata": {},
   "outputs": [],
   "source": [
    "train_loss_list = []\n",
    "val_loss_list = []\n",
    "\n",
    "def epoch_loop(dataset_train, dataset_test, EPOCHS):\n",
    "    best_val_acc = 0.\n",
    "    for epoch in range(EPOCHS):\n",
    "        print(\"=\" * 10 + f\" Epoch {epoch + 1}/{EPOCHS} \" + \"=\" * 10)\n",
    "        # Reset the metrics at the start of the next epoch\n",
    "        train_loss.reset_states()\n",
    "        train_accuracy.reset_states()\n",
    "        val_loss.reset_states()\n",
    "        val_accuracy.reset_states()\n",
    "\n",
    "        tf.print(\"training:\")\n",
    "        for image, label in tqdm(dataset_train, total=math.floor(len(img_path_train)/HParams.BATCH_SIZE)):\n",
    "            train_step(image, label)\n",
    "\n",
    "        tf.print(\"validating:\")\n",
    "        for image, label in tqdm(dataset_val, total=math.floor(len(img_path_val)/HParams.BATCH_SIZE)):\n",
    "            val_step(image, label)\n",
    "            \n",
    "        train_loss_list.append(train_loss.result().numpy())\n",
    "        val_loss_list.append(val_loss.result().numpy())\n",
    "     \n",
    "        template = 'Epoch {:0}, Training loss: {:.4f}, Training accuracy: {:.4f}, Validation loss: {:.4f}, Validation Accuracy: {:.4f}'\n",
    "        tf.print (template.format(epoch+1,\n",
    "                               train_loss.result(),\n",
    "                               train_accuracy.result()*100,\n",
    "                               val_loss.result(),\n",
    "                               val_accuracy.result()*100))\n",
    "        \n",
    "        # Save weight after each epoch\n",
    "        ckpt_manager.save()\n",
    "        \n",
    "        # Save best weight\n",
    "        if val_accuracy.result() > best_val_acc:\n",
    "            best_val_acc = val_accuracy.result()\n",
    "            best_manager.save()\n",
    "            print(f\"Best model saved at {best_manager.latest_checkpoint}.\")"
   ]
  },
  {
   "cell_type": "code",
   "execution_count": 22,
   "id": "2b84216d",
   "metadata": {},
   "outputs": [
    {
     "name": "stdout",
     "output_type": "stream",
     "text": [
      "========== Epoch 1/50 ==========\n",
      "training:\r\n"
     ]
    },
    {
     "name": "stderr",
     "output_type": "stream",
     "text": [
      "100%|████████████████████████████████████████████████████████████████████████████████| 250/250 [02:25<00:00,  1.72it/s]"
     ]
    },
    {
     "name": "stdout",
     "output_type": "stream",
     "text": [
      "validating:\r\n"
     ]
    },
    {
     "name": "stderr",
     "output_type": "stream",
     "text": [
      "\n",
      "100%|██████████████████████████████████████████████████████████████████████████████████| 31/31 [00:13<00:00,  2.25it/s]"
     ]
    },
    {
     "name": "stdout",
     "output_type": "stream",
     "text": [
      "Epoch 1, Training loss: 1.8943, Training accuracy: 42.3937, Validation loss: 1.7200, Validation Accuracy: 58.1149\r\n"
     ]
    },
    {
     "name": "stderr",
     "output_type": "stream",
     "text": [
      "\n"
     ]
    },
    {
     "name": "stdout",
     "output_type": "stream",
     "text": [
      "Best model saved at checkpoint\\VGG16_Modified2\\best\\ckpt-2.\n",
      "========== Epoch 2/50 ==========\n",
      "training:\r\n"
     ]
    },
    {
     "name": "stderr",
     "output_type": "stream",
     "text": [
      "100%|████████████████████████████████████████████████████████████████████████████████| 250/250 [01:05<00:00,  3.84it/s]"
     ]
    },
    {
     "name": "stdout",
     "output_type": "stream",
     "text": [
      "validating:\r\n"
     ]
    },
    {
     "name": "stderr",
     "output_type": "stream",
     "text": [
      "\n",
      "100%|██████████████████████████████████████████████████████████████████████████████████| 31/31 [00:02<00:00, 12.12it/s]\n"
     ]
    },
    {
     "name": "stdout",
     "output_type": "stream",
     "text": [
      "Epoch 2, Training loss: 1.3283, Training accuracy: 64.1813, Validation loss: 1.0957, Validation Accuracy: 71.2702\n",
      "Best model saved at checkpoint\\VGG16_Modified2\\best\\ckpt-4.\n",
      "========== Epoch 3/50 ==========\n",
      "training:\n"
     ]
    },
    {
     "name": "stderr",
     "output_type": "stream",
     "text": [
      "100%|████████████████████████████████████████████████████████████████████████████████| 250/250 [01:04<00:00,  3.85it/s]"
     ]
    },
    {
     "name": "stdout",
     "output_type": "stream",
     "text": [
      "validating:\r\n"
     ]
    },
    {
     "name": "stderr",
     "output_type": "stream",
     "text": [
      "\n",
      "100%|██████████████████████████████████████████████████████████████████████████████████| 31/31 [00:02<00:00, 12.08it/s]\n"
     ]
    },
    {
     "name": "stdout",
     "output_type": "stream",
     "text": [
      "Epoch 3, Training loss: 0.8752, Training accuracy: 76.9000, Validation loss: 0.6792, Validation Accuracy: 82.9637\n",
      "Best model saved at checkpoint\\VGG16_Modified2\\best\\ckpt-6.\n",
      "========== Epoch 4/50 ==========\n",
      "training:\n"
     ]
    },
    {
     "name": "stderr",
     "output_type": "stream",
     "text": [
      "100%|████████████████████████████████████████████████████████████████████████████████| 250/250 [01:05<00:00,  3.83it/s]"
     ]
    },
    {
     "name": "stdout",
     "output_type": "stream",
     "text": [
      "validating:\r\n"
     ]
    },
    {
     "name": "stderr",
     "output_type": "stream",
     "text": [
      "\n",
      "100%|██████████████████████████████████████████████████████████████████████████████████| 31/31 [00:02<00:00, 12.01it/s]\n"
     ]
    },
    {
     "name": "stdout",
     "output_type": "stream",
     "text": [
      "Epoch 4, Training loss: 0.5751, Training accuracy: 86.5875, Validation loss: 0.4172, Validation Accuracy: 91.3811\n",
      "Best model saved at checkpoint\\VGG16_Modified2\\best\\ckpt-8.\n",
      "========== Epoch 5/50 ==========\n",
      "training:\n"
     ]
    },
    {
     "name": "stderr",
     "output_type": "stream",
     "text": [
      "100%|████████████████████████████████████████████████████████████████████████████████| 250/250 [01:05<00:00,  3.84it/s]"
     ]
    },
    {
     "name": "stdout",
     "output_type": "stream",
     "text": [
      "validating:\r\n"
     ]
    },
    {
     "name": "stderr",
     "output_type": "stream",
     "text": [
      "\n",
      "100%|██████████████████████████████████████████████████████████████████████████████████| 31/31 [00:02<00:00, 11.98it/s]\n"
     ]
    },
    {
     "name": "stdout",
     "output_type": "stream",
     "text": [
      "Epoch 5, Training loss: 0.3888, Training accuracy: 92.3438, Validation loss: 0.2831, Validation Accuracy: 94.5061\n",
      "Best model saved at checkpoint\\VGG16_Modified2\\best\\ckpt-10.\n",
      "========== Epoch 6/50 ==========\n",
      "training:\n"
     ]
    },
    {
     "name": "stderr",
     "output_type": "stream",
     "text": [
      "100%|████████████████████████████████████████████████████████████████████████████████| 250/250 [01:04<00:00,  3.85it/s]"
     ]
    },
    {
     "name": "stdout",
     "output_type": "stream",
     "text": [
      "validating:\r\n"
     ]
    },
    {
     "name": "stderr",
     "output_type": "stream",
     "text": [
      "\n",
      "100%|██████████████████████████████████████████████████████████████████████████████████| 31/31 [00:02<00:00, 12.10it/s]\n"
     ]
    },
    {
     "name": "stdout",
     "output_type": "stream",
     "text": [
      "Epoch 6, Training loss: 0.2544, Training accuracy: 96.0062, Validation loss: 0.1898, Validation Accuracy: 96.3710\n",
      "Best model saved at checkpoint\\VGG16_Modified2\\best\\ckpt-12.\n",
      "========== Epoch 7/50 ==========\n",
      "training:\n"
     ]
    },
    {
     "name": "stderr",
     "output_type": "stream",
     "text": [
      "100%|████████████████████████████████████████████████████████████████████████████████| 250/250 [01:05<00:00,  3.84it/s]"
     ]
    },
    {
     "name": "stdout",
     "output_type": "stream",
     "text": [
      "validating:\r\n"
     ]
    },
    {
     "name": "stderr",
     "output_type": "stream",
     "text": [
      "\n",
      "100%|██████████████████████████████████████████████████████████████████████████████████| 31/31 [00:02<00:00, 11.91it/s]\n"
     ]
    },
    {
     "name": "stdout",
     "output_type": "stream",
     "text": [
      "Epoch 7, Training loss: 0.1728, Training accuracy: 97.9125, Validation loss: 0.1420, Validation Accuracy: 97.0766\n",
      "Best model saved at checkpoint\\VGG16_Modified2\\best\\ckpt-14.\n",
      "========== Epoch 8/50 ==========\n",
      "training:\n"
     ]
    },
    {
     "name": "stderr",
     "output_type": "stream",
     "text": [
      "100%|████████████████████████████████████████████████████████████████████████████████| 250/250 [01:05<00:00,  3.83it/s]"
     ]
    },
    {
     "name": "stdout",
     "output_type": "stream",
     "text": [
      "validating:\r\n"
     ]
    },
    {
     "name": "stderr",
     "output_type": "stream",
     "text": [
      "\n",
      "100%|██████████████████████████████████████████████████████████████████████████████████| 31/31 [00:02<00:00, 12.12it/s]\n"
     ]
    },
    {
     "name": "stdout",
     "output_type": "stream",
     "text": [
      "Epoch 8, Training loss: 0.1199, Training accuracy: 98.8563, Validation loss: 0.1220, Validation Accuracy: 96.9758\n",
      "========== Epoch 9/50 ==========\n",
      "training:\n"
     ]
    },
    {
     "name": "stderr",
     "output_type": "stream",
     "text": [
      "100%|████████████████████████████████████████████████████████████████████████████████| 250/250 [01:05<00:00,  3.83it/s]"
     ]
    },
    {
     "name": "stdout",
     "output_type": "stream",
     "text": [
      "validating:\r\n"
     ]
    },
    {
     "name": "stderr",
     "output_type": "stream",
     "text": [
      "\n",
      "100%|██████████████████████████████████████████████████████████████████████████████████| 31/31 [00:02<00:00, 11.97it/s]\n"
     ]
    },
    {
     "name": "stdout",
     "output_type": "stream",
     "text": [
      "Epoch 9, Training loss: 0.0869, Training accuracy: 99.2375, Validation loss: 0.1065, Validation Accuracy: 97.1774\n",
      "Best model saved at checkpoint\\VGG16_Modified2\\best\\ckpt-17.\n",
      "========== Epoch 10/50 ==========\n",
      "training:\n"
     ]
    },
    {
     "name": "stderr",
     "output_type": "stream",
     "text": [
      "100%|████████████████████████████████████████████████████████████████████████████████| 250/250 [01:05<00:00,  3.84it/s]"
     ]
    },
    {
     "name": "stdout",
     "output_type": "stream",
     "text": [
      "validating:\r\n"
     ]
    },
    {
     "name": "stderr",
     "output_type": "stream",
     "text": [
      "\n",
      "100%|██████████████████████████████████████████████████████████████████████████████████| 31/31 [00:02<00:00, 12.02it/s]\n"
     ]
    },
    {
     "name": "stdout",
     "output_type": "stream",
     "text": [
      "Epoch 10, Training loss: 0.0675, Training accuracy: 99.4750, Validation loss: 0.1276, Validation Accuracy: 95.8669\n",
      "========== Epoch 11/50 ==========\n",
      "training:\n"
     ]
    },
    {
     "name": "stderr",
     "output_type": "stream",
     "text": [
      "100%|████████████████████████████████████████████████████████████████████████████████| 250/250 [01:04<00:00,  3.85it/s]"
     ]
    },
    {
     "name": "stdout",
     "output_type": "stream",
     "text": [
      "validating:\r\n"
     ]
    },
    {
     "name": "stderr",
     "output_type": "stream",
     "text": [
      "\n",
      "100%|██████████████████████████████████████████████████████████████████████████████████| 31/31 [00:02<00:00, 12.08it/s]\n"
     ]
    },
    {
     "name": "stdout",
     "output_type": "stream",
     "text": [
      "Epoch 11, Training loss: 0.0497, Training accuracy: 99.6937, Validation loss: 0.0913, Validation Accuracy: 97.3286\n",
      "Best model saved at checkpoint\\VGG16_Modified2\\best\\ckpt-20.\n",
      "========== Epoch 12/50 ==========\n",
      "training:\n"
     ]
    },
    {
     "name": "stderr",
     "output_type": "stream",
     "text": [
      "100%|████████████████████████████████████████████████████████████████████████████████| 250/250 [01:05<00:00,  3.84it/s]"
     ]
    },
    {
     "name": "stdout",
     "output_type": "stream",
     "text": [
      "validating:\r\n"
     ]
    },
    {
     "name": "stderr",
     "output_type": "stream",
     "text": [
      "\n",
      "100%|██████████████████████████████████████████████████████████████████████████████████| 31/31 [00:02<00:00, 12.07it/s]\n"
     ]
    },
    {
     "name": "stdout",
     "output_type": "stream",
     "text": [
      "Epoch 12, Training loss: 0.0450, Training accuracy: 99.6000, Validation loss: 0.1081, Validation Accuracy: 96.5726\n",
      "========== Epoch 13/50 ==========\n",
      "training:\n"
     ]
    },
    {
     "name": "stderr",
     "output_type": "stream",
     "text": [
      "100%|████████████████████████████████████████████████████████████████████████████████| 250/250 [01:05<00:00,  3.84it/s]"
     ]
    },
    {
     "name": "stdout",
     "output_type": "stream",
     "text": [
      "validating:\r\n"
     ]
    },
    {
     "name": "stderr",
     "output_type": "stream",
     "text": [
      "\n",
      "100%|██████████████████████████████████████████████████████████████████████████████████| 31/31 [00:02<00:00, 12.07it/s]\n"
     ]
    },
    {
     "name": "stdout",
     "output_type": "stream",
     "text": [
      "Epoch 13, Training loss: 0.0370, Training accuracy: 99.7063, Validation loss: 0.0684, Validation Accuracy: 98.4375\n",
      "Best model saved at checkpoint\\VGG16_Modified2\\best\\ckpt-23.\n",
      "========== Epoch 14/50 ==========\n",
      "training:\n"
     ]
    },
    {
     "name": "stderr",
     "output_type": "stream",
     "text": [
      "100%|████████████████████████████████████████████████████████████████████████████████| 250/250 [01:05<00:00,  3.84it/s]"
     ]
    },
    {
     "name": "stdout",
     "output_type": "stream",
     "text": [
      "validating:\r\n"
     ]
    },
    {
     "name": "stderr",
     "output_type": "stream",
     "text": [
      "\n",
      "100%|██████████████████████████████████████████████████████████████████████████████████| 31/31 [00:02<00:00, 11.97it/s]\n"
     ]
    },
    {
     "name": "stdout",
     "output_type": "stream",
     "text": [
      "Epoch 14, Training loss: 0.0272, Training accuracy: 99.8875, Validation loss: 0.0739, Validation Accuracy: 98.1855\n",
      "========== Epoch 15/50 ==========\n",
      "training:\n"
     ]
    },
    {
     "name": "stderr",
     "output_type": "stream",
     "text": [
      "100%|████████████████████████████████████████████████████████████████████████████████| 250/250 [01:04<00:00,  3.85it/s]"
     ]
    },
    {
     "name": "stdout",
     "output_type": "stream",
     "text": [
      "validating:\r\n"
     ]
    },
    {
     "name": "stderr",
     "output_type": "stream",
     "text": [
      "\n",
      "100%|██████████████████████████████████████████████████████████████████████████████████| 31/31 [00:02<00:00, 12.06it/s]\n"
     ]
    },
    {
     "name": "stdout",
     "output_type": "stream",
     "text": [
      "Epoch 15, Training loss: 0.0294, Training accuracy: 99.6312, Validation loss: 0.0973, Validation Accuracy: 97.4294\n",
      "========== Epoch 16/50 ==========\n",
      "training:\n"
     ]
    },
    {
     "name": "stderr",
     "output_type": "stream",
     "text": [
      "100%|████████████████████████████████████████████████████████████████████████████████| 250/250 [01:04<00:00,  3.85it/s]"
     ]
    },
    {
     "name": "stdout",
     "output_type": "stream",
     "text": [
      "validating:\r\n"
     ]
    },
    {
     "name": "stderr",
     "output_type": "stream",
     "text": [
      "\n",
      "100%|██████████████████████████████████████████████████████████████████████████████████| 31/31 [00:02<00:00, 12.04it/s]\n"
     ]
    },
    {
     "name": "stdout",
     "output_type": "stream",
     "text": [
      "Epoch 16, Training loss: 0.0300, Training accuracy: 99.5812, Validation loss: 0.0741, Validation Accuracy: 98.1855\n",
      "========== Epoch 17/50 ==========\n",
      "training:\n"
     ]
    },
    {
     "name": "stderr",
     "output_type": "stream",
     "text": [
      "100%|████████████████████████████████████████████████████████████████████████████████| 250/250 [01:05<00:00,  3.83it/s]"
     ]
    },
    {
     "name": "stdout",
     "output_type": "stream",
     "text": [
      "validating:\r\n"
     ]
    },
    {
     "name": "stderr",
     "output_type": "stream",
     "text": [
      "\n",
      "100%|██████████████████████████████████████████████████████████████████████████████████| 31/31 [00:02<00:00, 11.99it/s]\n"
     ]
    },
    {
     "name": "stdout",
     "output_type": "stream",
     "text": [
      "Epoch 17, Training loss: 0.0185, Training accuracy: 99.8875, Validation loss: 0.0748, Validation Accuracy: 98.3367\n",
      "========== Epoch 18/50 ==========\n",
      "training:\n"
     ]
    },
    {
     "name": "stderr",
     "output_type": "stream",
     "text": [
      "100%|████████████████████████████████████████████████████████████████████████████████| 250/250 [01:05<00:00,  3.82it/s]"
     ]
    },
    {
     "name": "stdout",
     "output_type": "stream",
     "text": [
      "validating:\r\n"
     ]
    },
    {
     "name": "stderr",
     "output_type": "stream",
     "text": [
      "\n",
      "100%|██████████████████████████████████████████████████████████████████████████████████| 31/31 [00:02<00:00, 12.05it/s]\n"
     ]
    },
    {
     "name": "stdout",
     "output_type": "stream",
     "text": [
      "Epoch 18, Training loss: 0.0137, Training accuracy: 99.9437, Validation loss: 0.0813, Validation Accuracy: 98.2359\n",
      "========== Epoch 19/50 ==========\n",
      "training:\n"
     ]
    },
    {
     "name": "stderr",
     "output_type": "stream",
     "text": [
      "100%|████████████████████████████████████████████████████████████████████████████████| 250/250 [01:05<00:00,  3.79it/s]"
     ]
    },
    {
     "name": "stdout",
     "output_type": "stream",
     "text": [
      "validating:\r\n"
     ]
    },
    {
     "name": "stderr",
     "output_type": "stream",
     "text": [
      "\n",
      "100%|██████████████████████████████████████████████████████████████████████████████████| 31/31 [00:02<00:00, 10.49it/s]"
     ]
    },
    {
     "name": "stdout",
     "output_type": "stream",
     "text": [
      "Epoch 19, Training loss: 0.0119, Training accuracy: 99.9750, Validation loss: 0.0682, Validation Accuracy: 98.3871\r\n"
     ]
    },
    {
     "name": "stderr",
     "output_type": "stream",
     "text": [
      "\n"
     ]
    },
    {
     "name": "stdout",
     "output_type": "stream",
     "text": [
      "========== Epoch 20/50 ==========\n",
      "training:\r\n"
     ]
    },
    {
     "name": "stderr",
     "output_type": "stream",
     "text": [
      "100%|████████████████████████████████████████████████████████████████████████████████| 250/250 [01:08<00:00,  3.63it/s]"
     ]
    },
    {
     "name": "stdout",
     "output_type": "stream",
     "text": [
      "validating:\r\n"
     ]
    },
    {
     "name": "stderr",
     "output_type": "stream",
     "text": [
      "\n",
      "100%|██████████████████████████████████████████████████████████████████████████████████| 31/31 [00:02<00:00, 11.52it/s]\n"
     ]
    },
    {
     "name": "stdout",
     "output_type": "stream",
     "text": [
      "Epoch 20, Training loss: 0.0105, Training accuracy: 99.9500, Validation loss: 0.0640, Validation Accuracy: 98.4375\n",
      "========== Epoch 21/50 ==========\n",
      "training:\n"
     ]
    },
    {
     "name": "stderr",
     "output_type": "stream",
     "text": [
      "100%|████████████████████████████████████████████████████████████████████████████████| 250/250 [02:26<00:00,  1.71it/s]"
     ]
    },
    {
     "name": "stdout",
     "output_type": "stream",
     "text": [
      "validating:\r\n"
     ]
    },
    {
     "name": "stderr",
     "output_type": "stream",
     "text": [
      "\n",
      "100%|██████████████████████████████████████████████████████████████████████████████████| 31/31 [00:05<00:00,  5.42it/s]\n"
     ]
    },
    {
     "name": "stdout",
     "output_type": "stream",
     "text": [
      "Epoch 21, Training loss: 0.0117, Training accuracy: 99.9000, Validation loss: 0.3610, Validation Accuracy: 91.5323\n",
      "========== Epoch 22/50 ==========\n",
      "training:\n"
     ]
    },
    {
     "name": "stderr",
     "output_type": "stream",
     "text": [
      "100%|████████████████████████████████████████████████████████████████████████████████| 250/250 [02:26<00:00,  1.70it/s]"
     ]
    },
    {
     "name": "stdout",
     "output_type": "stream",
     "text": [
      "validating:\r\n"
     ]
    },
    {
     "name": "stderr",
     "output_type": "stream",
     "text": [
      "\n",
      "100%|██████████████████████████████████████████████████████████████████████████████████| 31/31 [00:05<00:00,  5.40it/s]\n"
     ]
    },
    {
     "name": "stdout",
     "output_type": "stream",
     "text": [
      "Epoch 22, Training loss: 0.0416, Training accuracy: 99.0000, Validation loss: 0.1390, Validation Accuracy: 96.1693\n",
      "========== Epoch 23/50 ==========\n",
      "training:\n"
     ]
    },
    {
     "name": "stderr",
     "output_type": "stream",
     "text": [
      "100%|████████████████████████████████████████████████████████████████████████████████| 250/250 [02:18<00:00,  1.81it/s]"
     ]
    },
    {
     "name": "stdout",
     "output_type": "stream",
     "text": [
      "validating:\r\n"
     ]
    },
    {
     "name": "stderr",
     "output_type": "stream",
     "text": [
      "\n",
      "100%|██████████████████████████████████████████████████████████████████████████████████| 31/31 [00:02<00:00, 11.99it/s]\n"
     ]
    },
    {
     "name": "stdout",
     "output_type": "stream",
     "text": [
      "Epoch 23, Training loss: 0.0141, Training accuracy: 99.7812, Validation loss: 0.0726, Validation Accuracy: 98.2863\n",
      "========== Epoch 24/50 ==========\n",
      "training:\n"
     ]
    },
    {
     "name": "stderr",
     "output_type": "stream",
     "text": [
      "100%|████████████████████████████████████████████████████████████████████████████████| 250/250 [01:09<00:00,  3.60it/s]"
     ]
    },
    {
     "name": "stdout",
     "output_type": "stream",
     "text": [
      "validating:\r\n"
     ]
    },
    {
     "name": "stderr",
     "output_type": "stream",
     "text": [
      "\n",
      "100%|██████████████████████████████████████████████████████████████████████████████████| 31/31 [00:02<00:00, 12.02it/s]\n"
     ]
    },
    {
     "name": "stdout",
     "output_type": "stream",
     "text": [
      "Epoch 24, Training loss: 0.0073, Training accuracy: 100.0000, Validation loss: 0.0696, Validation Accuracy: 98.2863\n",
      "========== Epoch 25/50 ==========\n",
      "training:\n"
     ]
    },
    {
     "name": "stderr",
     "output_type": "stream",
     "text": [
      "100%|████████████████████████████████████████████████████████████████████████████████| 250/250 [01:06<00:00,  3.75it/s]"
     ]
    },
    {
     "name": "stdout",
     "output_type": "stream",
     "text": [
      "validating:\r\n"
     ]
    },
    {
     "name": "stderr",
     "output_type": "stream",
     "text": [
      "\n",
      "100%|██████████████████████████████████████████████████████████████████████████████████| 31/31 [00:02<00:00, 12.02it/s]\n"
     ]
    },
    {
     "name": "stdout",
     "output_type": "stream",
     "text": [
      "Epoch 25, Training loss: 0.0065, Training accuracy: 99.9750, Validation loss: 0.0639, Validation Accuracy: 98.3871\n",
      "========== Epoch 26/50 ==========\n",
      "training:\n"
     ]
    },
    {
     "name": "stderr",
     "output_type": "stream",
     "text": [
      "100%|████████████████████████████████████████████████████████████████████████████████| 250/250 [01:04<00:00,  3.86it/s]"
     ]
    },
    {
     "name": "stdout",
     "output_type": "stream",
     "text": [
      "validating:\r\n"
     ]
    },
    {
     "name": "stderr",
     "output_type": "stream",
     "text": [
      "\n",
      "100%|██████████████████████████████████████████████████████████████████████████████████| 31/31 [00:02<00:00, 11.93it/s]\n"
     ]
    },
    {
     "name": "stdout",
     "output_type": "stream",
     "text": [
      "Epoch 26, Training loss: 0.0057, Training accuracy: 99.9875, Validation loss: 0.0676, Validation Accuracy: 98.5383\n",
      "Best model saved at checkpoint\\VGG16_Modified2\\best\\ckpt-37.\n",
      "========== Epoch 27/50 ==========\n",
      "training:\n"
     ]
    },
    {
     "name": "stderr",
     "output_type": "stream",
     "text": [
      "100%|████████████████████████████████████████████████████████████████████████████████| 250/250 [10:18<00:00,  2.48s/it]"
     ]
    },
    {
     "name": "stdout",
     "output_type": "stream",
     "text": [
      "validating:\r\n"
     ]
    },
    {
     "name": "stderr",
     "output_type": "stream",
     "text": [
      "\n",
      "100%|██████████████████████████████████████████████████████████████████████████████████| 31/31 [00:03<00:00,  9.59it/s]"
     ]
    },
    {
     "name": "stdout",
     "output_type": "stream",
     "text": [
      "Epoch 27, Training loss: 0.0059, Training accuracy: 99.9500, Validation loss: 0.0811, Validation Accuracy: 97.8831\r\n"
     ]
    },
    {
     "name": "stderr",
     "output_type": "stream",
     "text": [
      "\n"
     ]
    },
    {
     "name": "stdout",
     "output_type": "stream",
     "text": [
      "========== Epoch 28/50 ==========\n",
      "training:\r\n"
     ]
    },
    {
     "name": "stderr",
     "output_type": "stream",
     "text": [
      "100%|████████████████████████████████████████████████████████████████████████████████| 250/250 [01:21<00:00,  3.08it/s]"
     ]
    },
    {
     "name": "stdout",
     "output_type": "stream",
     "text": [
      "validating:\r\n"
     ]
    },
    {
     "name": "stderr",
     "output_type": "stream",
     "text": [
      "\n",
      "100%|██████████████████████████████████████████████████████████████████████████████████| 31/31 [00:03<00:00,  9.81it/s]"
     ]
    },
    {
     "name": "stdout",
     "output_type": "stream",
     "text": [
      "Epoch 28, Training loss: 0.0297, Training accuracy: 99.1937, Validation loss: 0.1323, Validation Accuracy: 96.9758\r\n"
     ]
    },
    {
     "name": "stderr",
     "output_type": "stream",
     "text": [
      "\n"
     ]
    },
    {
     "name": "stdout",
     "output_type": "stream",
     "text": [
      "========== Epoch 29/50 ==========\n",
      "training:\r\n"
     ]
    },
    {
     "name": "stderr",
     "output_type": "stream",
     "text": [
      "100%|████████████████████████████████████████████████████████████████████████████████| 250/250 [01:20<00:00,  3.09it/s]"
     ]
    },
    {
     "name": "stdout",
     "output_type": "stream",
     "text": [
      "validating:\r\n"
     ]
    },
    {
     "name": "stderr",
     "output_type": "stream",
     "text": [
      "\n",
      "100%|██████████████████████████████████████████████████████████████████████████████████| 31/31 [00:03<00:00,  9.68it/s]\n"
     ]
    },
    {
     "name": "stdout",
     "output_type": "stream",
     "text": [
      "Epoch 29, Training loss: 0.0192, Training accuracy: 99.5500, Validation loss: 0.1105, Validation Accuracy: 97.1774\n",
      "========== Epoch 30/50 ==========\n",
      "training:\n"
     ]
    },
    {
     "name": "stderr",
     "output_type": "stream",
     "text": [
      "100%|████████████████████████████████████████████████████████████████████████████████| 250/250 [01:21<00:00,  3.06it/s]"
     ]
    },
    {
     "name": "stdout",
     "output_type": "stream",
     "text": [
      "validating:\r\n"
     ]
    },
    {
     "name": "stderr",
     "output_type": "stream",
     "text": [
      "\n",
      "100%|██████████████████████████████████████████████████████████████████████████████████| 31/31 [00:03<00:00,  9.60it/s]"
     ]
    },
    {
     "name": "stdout",
     "output_type": "stream",
     "text": [
      "Epoch 30, Training loss: 0.0088, Training accuracy: 99.8500, Validation loss: 0.1274, Validation Accuracy: 96.7238\r\n"
     ]
    },
    {
     "name": "stderr",
     "output_type": "stream",
     "text": [
      "\n"
     ]
    },
    {
     "name": "stdout",
     "output_type": "stream",
     "text": [
      "========== Epoch 31/50 ==========\n",
      "training:\r\n"
     ]
    },
    {
     "name": "stderr",
     "output_type": "stream",
     "text": [
      "100%|████████████████████████████████████████████████████████████████████████████████| 250/250 [04:59<00:00,  1.20s/it]"
     ]
    },
    {
     "name": "stdout",
     "output_type": "stream",
     "text": [
      "validating:\r\n"
     ]
    },
    {
     "name": "stderr",
     "output_type": "stream",
     "text": [
      "\n",
      "100%|██████████████████████████████████████████████████████████████████████████████████| 31/31 [00:21<00:00,  1.44it/s]\n"
     ]
    },
    {
     "name": "stdout",
     "output_type": "stream",
     "text": [
      "Epoch 31, Training loss: 0.0053, Training accuracy: 99.9688, Validation loss: 0.0696, Validation Accuracy: 98.5887\n",
      "Best model saved at checkpoint\\VGG16_Modified2\\best\\ckpt-43.\n",
      "========== Epoch 32/50 ==========\n",
      "training:\n"
     ]
    },
    {
     "name": "stderr",
     "output_type": "stream",
     "text": [
      "100%|████████████████████████████████████████████████████████████████████████████████| 250/250 [04:44<00:00,  1.14s/it]"
     ]
    },
    {
     "name": "stdout",
     "output_type": "stream",
     "text": [
      "validating:\r\n"
     ]
    },
    {
     "name": "stderr",
     "output_type": "stream",
     "text": [
      "\n",
      "100%|██████████████████████████████████████████████████████████████████████████████████| 31/31 [00:03<00:00,  9.65it/s]"
     ]
    },
    {
     "name": "stdout",
     "output_type": "stream",
     "text": [
      "Epoch 32, Training loss: 0.0042, Training accuracy: 99.9937, Validation loss: 0.0724, Validation Accuracy: 98.3871\r\n"
     ]
    },
    {
     "name": "stderr",
     "output_type": "stream",
     "text": [
      "\n"
     ]
    },
    {
     "name": "stdout",
     "output_type": "stream",
     "text": [
      "========== Epoch 33/50 ==========\n",
      "training:\r\n"
     ]
    },
    {
     "name": "stderr",
     "output_type": "stream",
     "text": [
      "100%|████████████████████████████████████████████████████████████████████████████████| 250/250 [01:21<00:00,  3.07it/s]"
     ]
    },
    {
     "name": "stdout",
     "output_type": "stream",
     "text": [
      "validating:\r\n"
     ]
    },
    {
     "name": "stderr",
     "output_type": "stream",
     "text": [
      "\n",
      "100%|██████████████████████████████████████████████████████████████████████████████████| 31/31 [00:03<00:00,  9.86it/s]"
     ]
    },
    {
     "name": "stdout",
     "output_type": "stream",
     "text": [
      "Epoch 33, Training loss: 0.0036, Training accuracy: 99.9688, Validation loss: 0.0702, Validation Accuracy: 98.5383\r\n"
     ]
    },
    {
     "name": "stderr",
     "output_type": "stream",
     "text": [
      "\n"
     ]
    },
    {
     "name": "stdout",
     "output_type": "stream",
     "text": [
      "========== Epoch 34/50 ==========\n",
      "training:\r\n"
     ]
    },
    {
     "name": "stderr",
     "output_type": "stream",
     "text": [
      "100%|████████████████████████████████████████████████████████████████████████████████| 250/250 [01:21<00:00,  3.05it/s]"
     ]
    },
    {
     "name": "stdout",
     "output_type": "stream",
     "text": [
      "validating:\r\n"
     ]
    },
    {
     "name": "stderr",
     "output_type": "stream",
     "text": [
      "\n",
      "100%|██████████████████████████████████████████████████████████████████████████████████| 31/31 [00:03<00:00,  9.70it/s]"
     ]
    },
    {
     "name": "stdout",
     "output_type": "stream",
     "text": [
      "Epoch 34, Training loss: 0.0036, Training accuracy: 99.9688, Validation loss: 0.0779, Validation Accuracy: 98.3871\r\n"
     ]
    },
    {
     "name": "stderr",
     "output_type": "stream",
     "text": [
      "\n"
     ]
    },
    {
     "name": "stdout",
     "output_type": "stream",
     "text": [
      "========== Epoch 35/50 ==========\n",
      "training:\r\n"
     ]
    },
    {
     "name": "stderr",
     "output_type": "stream",
     "text": [
      "100%|████████████████████████████████████████████████████████████████████████████████| 250/250 [01:22<00:00,  3.04it/s]"
     ]
    },
    {
     "name": "stdout",
     "output_type": "stream",
     "text": [
      "validating:\r\n"
     ]
    },
    {
     "name": "stderr",
     "output_type": "stream",
     "text": [
      "\n",
      "100%|██████████████████████████████████████████████████████████████████████████████████| 31/31 [00:03<00:00,  9.71it/s]"
     ]
    },
    {
     "name": "stdout",
     "output_type": "stream",
     "text": [
      "Epoch 35, Training loss: 0.0033, Training accuracy: 99.9750, Validation loss: 0.0705, Validation Accuracy: 98.3367\r\n"
     ]
    },
    {
     "name": "stderr",
     "output_type": "stream",
     "text": [
      "\n"
     ]
    },
    {
     "name": "stdout",
     "output_type": "stream",
     "text": [
      "========== Epoch 36/50 ==========\n",
      "training:\r\n"
     ]
    },
    {
     "name": "stderr",
     "output_type": "stream",
     "text": [
      "100%|████████████████████████████████████████████████████████████████████████████████| 250/250 [01:22<00:00,  3.05it/s]"
     ]
    },
    {
     "name": "stdout",
     "output_type": "stream",
     "text": [
      "validating:\r\n"
     ]
    },
    {
     "name": "stderr",
     "output_type": "stream",
     "text": [
      "\n",
      "100%|██████████████████████████████████████████████████████████████████████████████████| 31/31 [00:03<00:00,  9.84it/s]"
     ]
    },
    {
     "name": "stdout",
     "output_type": "stream",
     "text": [
      "Epoch 36, Training loss: 0.0033, Training accuracy: 99.9812, Validation loss: 0.0747, Validation Accuracy: 98.5383\r\n"
     ]
    },
    {
     "name": "stderr",
     "output_type": "stream",
     "text": [
      "\n"
     ]
    },
    {
     "name": "stdout",
     "output_type": "stream",
     "text": [
      "========== Epoch 37/50 ==========\n",
      "training:\r\n"
     ]
    },
    {
     "name": "stderr",
     "output_type": "stream",
     "text": [
      "100%|████████████████████████████████████████████████████████████████████████████████| 250/250 [01:21<00:00,  3.06it/s]"
     ]
    },
    {
     "name": "stdout",
     "output_type": "stream",
     "text": [
      "validating:\r\n"
     ]
    },
    {
     "name": "stderr",
     "output_type": "stream",
     "text": [
      "\n",
      "100%|██████████████████████████████████████████████████████████████████████████████████| 31/31 [00:03<00:00,  9.73it/s]"
     ]
    },
    {
     "name": "stdout",
     "output_type": "stream",
     "text": [
      "Epoch 37, Training loss: 0.0025, Training accuracy: 99.9812, Validation loss: 0.0819, Validation Accuracy: 98.4375\r\n"
     ]
    },
    {
     "name": "stderr",
     "output_type": "stream",
     "text": [
      "\n"
     ]
    },
    {
     "name": "stdout",
     "output_type": "stream",
     "text": [
      "========== Epoch 38/50 ==========\n",
      "training:\r\n"
     ]
    },
    {
     "name": "stderr",
     "output_type": "stream",
     "text": [
      "100%|████████████████████████████████████████████████████████████████████████████████| 250/250 [01:21<00:00,  3.06it/s]"
     ]
    },
    {
     "name": "stdout",
     "output_type": "stream",
     "text": [
      "validating:\r\n"
     ]
    },
    {
     "name": "stderr",
     "output_type": "stream",
     "text": [
      "\n",
      "100%|██████████████████████████████████████████████████████████████████████████████████| 31/31 [00:03<00:00,  9.72it/s]\n"
     ]
    },
    {
     "name": "stdout",
     "output_type": "stream",
     "text": [
      "Epoch 38, Training loss: 0.0026, Training accuracy: 99.9875, Validation loss: 0.0888, Validation Accuracy: 98.1855\n",
      "========== Epoch 39/50 ==========\n",
      "training:\n"
     ]
    },
    {
     "name": "stderr",
     "output_type": "stream",
     "text": [
      "100%|████████████████████████████████████████████████████████████████████████████████| 250/250 [01:23<00:00,  3.01it/s]"
     ]
    },
    {
     "name": "stdout",
     "output_type": "stream",
     "text": [
      "validating:\r\n"
     ]
    },
    {
     "name": "stderr",
     "output_type": "stream",
     "text": [
      "\n",
      "100%|██████████████████████████████████████████████████████████████████████████████████| 31/31 [00:03<00:00,  9.62it/s]\n"
     ]
    },
    {
     "name": "stdout",
     "output_type": "stream",
     "text": [
      "Epoch 39, Training loss: 0.0021, Training accuracy: 99.9875, Validation loss: 0.0837, Validation Accuracy: 98.3871\n",
      "========== Epoch 40/50 ==========\n",
      "training:\n"
     ]
    },
    {
     "name": "stderr",
     "output_type": "stream",
     "text": [
      "100%|████████████████████████████████████████████████████████████████████████████████| 250/250 [01:21<00:00,  3.05it/s]"
     ]
    },
    {
     "name": "stdout",
     "output_type": "stream",
     "text": [
      "validating:\r\n"
     ]
    },
    {
     "name": "stderr",
     "output_type": "stream",
     "text": [
      "\n",
      "100%|██████████████████████████████████████████████████████████████████████████████████| 31/31 [00:03<00:00,  9.82it/s]"
     ]
    },
    {
     "name": "stdout",
     "output_type": "stream",
     "text": [
      "Epoch 40, Training loss: 0.0020, Training accuracy: 99.9937, Validation loss: 0.0811, Validation Accuracy: 98.3871\r\n"
     ]
    },
    {
     "name": "stderr",
     "output_type": "stream",
     "text": [
      "\n"
     ]
    },
    {
     "name": "stdout",
     "output_type": "stream",
     "text": [
      "========== Epoch 41/50 ==========\n",
      "training:\r\n"
     ]
    },
    {
     "name": "stderr",
     "output_type": "stream",
     "text": [
      "100%|████████████████████████████████████████████████████████████████████████████████| 250/250 [01:22<00:00,  3.05it/s]"
     ]
    },
    {
     "name": "stdout",
     "output_type": "stream",
     "text": [
      "validating:\r\n"
     ]
    },
    {
     "name": "stderr",
     "output_type": "stream",
     "text": [
      "\n",
      "100%|██████████████████████████████████████████████████████████████████████████████████| 31/31 [00:03<00:00,  9.47it/s]"
     ]
    },
    {
     "name": "stdout",
     "output_type": "stream",
     "text": [
      "Epoch 41, Training loss: 0.0019, Training accuracy: 99.9937, Validation loss: 0.0785, Validation Accuracy: 98.5383\r\n"
     ]
    },
    {
     "name": "stderr",
     "output_type": "stream",
     "text": [
      "\n"
     ]
    },
    {
     "name": "stdout",
     "output_type": "stream",
     "text": [
      "========== Epoch 42/50 ==========\n",
      "training:\n"
     ]
    },
    {
     "name": "stderr",
     "output_type": "stream",
     "text": [
      "100%|████████████████████████████████████████████████████████████████████████████████| 250/250 [01:22<00:00,  3.03it/s]"
     ]
    },
    {
     "name": "stdout",
     "output_type": "stream",
     "text": [
      "validating:\r\n"
     ]
    },
    {
     "name": "stderr",
     "output_type": "stream",
     "text": [
      "\n",
      "100%|██████████████████████████████████████████████████████████████████████████████████| 31/31 [00:03<00:00,  9.66it/s]"
     ]
    },
    {
     "name": "stdout",
     "output_type": "stream",
     "text": [
      "Epoch 42, Training loss: 0.0516, Training accuracy: 98.5812, Validation loss: 0.0862, Validation Accuracy: 97.8327\r\n"
     ]
    },
    {
     "name": "stderr",
     "output_type": "stream",
     "text": [
      "\n"
     ]
    },
    {
     "name": "stdout",
     "output_type": "stream",
     "text": [
      "========== Epoch 43/50 ==========\n",
      "training:\r\n"
     ]
    },
    {
     "name": "stderr",
     "output_type": "stream",
     "text": [
      "100%|████████████████████████████████████████████████████████████████████████████████| 250/250 [01:21<00:00,  3.05it/s]"
     ]
    },
    {
     "name": "stdout",
     "output_type": "stream",
     "text": [
      "validating:\r\n"
     ]
    },
    {
     "name": "stderr",
     "output_type": "stream",
     "text": [
      "\n",
      "100%|██████████████████████████████████████████████████████████████████████████████████| 31/31 [00:03<00:00,  9.79it/s]"
     ]
    },
    {
     "name": "stdout",
     "output_type": "stream",
     "text": [
      "Epoch 43, Training loss: 0.0110, Training accuracy: 99.7812, Validation loss: 0.0956, Validation Accuracy: 98.0343\r\n"
     ]
    },
    {
     "name": "stderr",
     "output_type": "stream",
     "text": [
      "\n"
     ]
    },
    {
     "name": "stdout",
     "output_type": "stream",
     "text": [
      "========== Epoch 44/50 ==========\n",
      "training:\r\n"
     ]
    },
    {
     "name": "stderr",
     "output_type": "stream",
     "text": [
      "100%|████████████████████████████████████████████████████████████████████████████████| 250/250 [01:21<00:00,  3.06it/s]"
     ]
    },
    {
     "name": "stdout",
     "output_type": "stream",
     "text": [
      "validating:\r\n"
     ]
    },
    {
     "name": "stderr",
     "output_type": "stream",
     "text": [
      "\n",
      "100%|██████████████████████████████████████████████████████████████████████████████████| 31/31 [00:03<00:00,  9.77it/s]"
     ]
    },
    {
     "name": "stdout",
     "output_type": "stream",
     "text": [
      "Epoch 44, Training loss: 0.0060, Training accuracy: 99.8688, Validation loss: 0.1030, Validation Accuracy: 98.1855\r\n"
     ]
    },
    {
     "name": "stderr",
     "output_type": "stream",
     "text": [
      "\n"
     ]
    },
    {
     "name": "stdout",
     "output_type": "stream",
     "text": [
      "========== Epoch 45/50 ==========\n",
      "training:\r\n"
     ]
    },
    {
     "name": "stderr",
     "output_type": "stream",
     "text": [
      "100%|████████████████████████████████████████████████████████████████████████████████| 250/250 [01:21<00:00,  3.05it/s]"
     ]
    },
    {
     "name": "stdout",
     "output_type": "stream",
     "text": [
      "validating:\r\n"
     ]
    },
    {
     "name": "stderr",
     "output_type": "stream",
     "text": [
      "\n",
      "100%|██████████████████████████████████████████████████████████████████████████████████| 31/31 [00:03<00:00,  9.85it/s]"
     ]
    },
    {
     "name": "stdout",
     "output_type": "stream",
     "text": [
      "Epoch 45, Training loss: 0.0067, Training accuracy: 99.8500, Validation loss: 0.0965, Validation Accuracy: 98.0343\r\n"
     ]
    },
    {
     "name": "stderr",
     "output_type": "stream",
     "text": [
      "\n"
     ]
    },
    {
     "name": "stdout",
     "output_type": "stream",
     "text": [
      "========== Epoch 46/50 ==========\n",
      "training:\r\n"
     ]
    },
    {
     "name": "stderr",
     "output_type": "stream",
     "text": [
      "100%|████████████████████████████████████████████████████████████████████████████████| 250/250 [01:20<00:00,  3.10it/s]"
     ]
    },
    {
     "name": "stdout",
     "output_type": "stream",
     "text": [
      "validating:\r\n"
     ]
    },
    {
     "name": "stderr",
     "output_type": "stream",
     "text": [
      "\n",
      "100%|██████████████████████████████████████████████████████████████████████████████████| 31/31 [00:03<00:00,  9.69it/s]\n"
     ]
    },
    {
     "name": "stdout",
     "output_type": "stream",
     "text": [
      "Epoch 46, Training loss: 0.0026, Training accuracy: 99.9812, Validation loss: 0.0923, Validation Accuracy: 98.3367\n",
      "========== Epoch 47/50 ==========\n",
      "training:\n"
     ]
    },
    {
     "name": "stderr",
     "output_type": "stream",
     "text": [
      "100%|████████████████████████████████████████████████████████████████████████████████| 250/250 [01:20<00:00,  3.11it/s]"
     ]
    },
    {
     "name": "stdout",
     "output_type": "stream",
     "text": [
      "validating:\r\n"
     ]
    },
    {
     "name": "stderr",
     "output_type": "stream",
     "text": [
      "\n",
      "100%|██████████████████████████████████████████████████████████████████████████████████| 31/31 [00:03<00:00,  9.83it/s]"
     ]
    },
    {
     "name": "stdout",
     "output_type": "stream",
     "text": [
      "Epoch 47, Training loss: 0.0021, Training accuracy: 99.9937, Validation loss: 0.0874, Validation Accuracy: 98.1351\r\n"
     ]
    },
    {
     "name": "stderr",
     "output_type": "stream",
     "text": [
      "\n"
     ]
    },
    {
     "name": "stdout",
     "output_type": "stream",
     "text": [
      "========== Epoch 48/50 ==========\n",
      "training:\r\n"
     ]
    },
    {
     "name": "stderr",
     "output_type": "stream",
     "text": [
      "100%|████████████████████████████████████████████████████████████████████████████████| 250/250 [01:22<00:00,  3.02it/s]"
     ]
    },
    {
     "name": "stdout",
     "output_type": "stream",
     "text": [
      "validating:\r\n"
     ]
    },
    {
     "name": "stderr",
     "output_type": "stream",
     "text": [
      "\n",
      "100%|██████████████████████████████████████████████████████████████████████████████████| 31/31 [00:03<00:00,  9.58it/s]"
     ]
    },
    {
     "name": "stdout",
     "output_type": "stream",
     "text": [
      "Epoch 48, Training loss: 0.0020, Training accuracy: 100.0000, Validation loss: 0.0911, Validation Accuracy: 98.3871\r\n"
     ]
    },
    {
     "name": "stderr",
     "output_type": "stream",
     "text": [
      "\n"
     ]
    },
    {
     "name": "stdout",
     "output_type": "stream",
     "text": [
      "========== Epoch 49/50 ==========\n",
      "training:\r\n"
     ]
    },
    {
     "name": "stderr",
     "output_type": "stream",
     "text": [
      "100%|████████████████████████████████████████████████████████████████████████████████| 250/250 [01:23<00:00,  3.01it/s]"
     ]
    },
    {
     "name": "stdout",
     "output_type": "stream",
     "text": [
      "validating:\r\n"
     ]
    },
    {
     "name": "stderr",
     "output_type": "stream",
     "text": [
      "\n",
      "100%|██████████████████████████████████████████████████████████████████████████████████| 31/31 [00:03<00:00,  9.17it/s]\n"
     ]
    },
    {
     "name": "stdout",
     "output_type": "stream",
     "text": [
      "Epoch 49, Training loss: 0.0017, Training accuracy: 99.9937, Validation loss: 0.0889, Validation Accuracy: 98.1351\n",
      "========== Epoch 50/50 ==========\n",
      "training:\n"
     ]
    },
    {
     "name": "stderr",
     "output_type": "stream",
     "text": [
      "100%|████████████████████████████████████████████████████████████████████████████████| 250/250 [01:23<00:00,  2.98it/s]"
     ]
    },
    {
     "name": "stdout",
     "output_type": "stream",
     "text": [
      "validating:\r\n"
     ]
    },
    {
     "name": "stderr",
     "output_type": "stream",
     "text": [
      "\n",
      "100%|██████████████████████████████████████████████████████████████████████████████████| 31/31 [00:03<00:00,  9.34it/s]"
     ]
    },
    {
     "name": "stdout",
     "output_type": "stream",
     "text": [
      "Epoch 50, Training loss: 0.0019, Training accuracy: 99.9937, Validation loss: 0.0856, Validation Accuracy: 98.2863\r\n"
     ]
    },
    {
     "name": "stderr",
     "output_type": "stream",
     "text": [
      "\n"
     ]
    }
   ],
   "source": [
    "epoch_loop(dataset_train, dataset_val, EPOCHS= HParams.NUM_EPOCH)"
   ]
  },
  {
   "cell_type": "code",
   "execution_count": 22,
   "id": "52cd1cfd",
   "metadata": {},
   "outputs": [
    {
     "name": "stdout",
     "output_type": "stream",
     "text": [
      "Model restored from checkpoint\\VGG16_Modified2\\best\\ckpt-43.\n"
     ]
    },
    {
     "name": "stderr",
     "output_type": "stream",
     "text": [
      "100%|██████████████████████████████████████████████████████████████████████████████████| 31/31 [00:02<00:00, 11.27it/s]"
     ]
    },
    {
     "name": "stdout",
     "output_type": "stream",
     "text": [
      "Test loss: 0.0673, Test accuracy: 98.5383\r\n"
     ]
    },
    {
     "name": "stderr",
     "output_type": "stream",
     "text": [
      "\n"
     ]
    }
   ],
   "source": [
    "true_label = []\n",
    "predicted_label = []\n",
    "\n",
    "def test_loop(dataset_test):\n",
    "    print(f\"Model restored from {tf.train.latest_checkpoint(Paths.BEST_CHECKPOINT_DIR)}.\")\n",
    "    checkpoint = tf.train.Checkpoint(model=model)\n",
    "    checkpoint.restore(tf.train.latest_checkpoint(Paths.BEST_CHECKPOINT_DIR))\n",
    "    \n",
    "    for image, label in tqdm(dataset_test, total=math.floor(len(img_path_test)/HParams.BATCH_SIZE)):\n",
    "        loss, labels, predictions = test_step(image, label)\n",
    "        \n",
    "        true_label.extend(labels.numpy())\n",
    "        predicted_label.extend(tf.argmax(predictions, axis=1).numpy())\n",
    "        \n",
    "        test_loss(loss)\n",
    "        test_accuracy(labels, predictions)\n",
    "\n",
    "    template = 'Test loss: {:.4f}, Test accuracy: {:.4f}'\n",
    "    tf.print(template.format(test_loss.result(), test_accuracy.result()*100))\n",
    "\n",
    "test_loop(dataset_test)"
   ]
  },
  {
   "cell_type": "code",
   "execution_count": 24,
   "id": "7364e384",
   "metadata": {},
   "outputs": [
    {
     "data": {
      "image/png": "[encoded data removed]",
      "text/plain": [
       "<Figure size 640x480 with 1 Axes>"
      ]
     },
     "metadata": {},
     "output_type": "display_data"
    }
   ],
   "source": [
    "# Plot training and validation loss\n",
    "plt.plot(train_loss_list, label='Training Loss')\n",
    "plt.plot(val_loss_list, label='Validation Loss')\n",
    "plt.xlabel('Epoch')\n",
    "plt.ylabel('Loss')\n",
    "plt.legend()\n",
    "plt.show()"
   ]
  },
  {
   "cell_type": "code",
   "execution_count": 24,
   "id": "ee5f1f1d",
   "metadata": {},
   "outputs": [
    {
     "data": {
      "image/png": "[encoded data removed]",
      "text/plain": [
       "<Figure size 1000x800 with 2 Axes>"
      ]
     },
     "metadata": {},
     "output_type": "display_data"
    }
   ],
   "source": [
    "cm = confusion_matrix(true_label, predicted_label)\n",
    "\n",
    "plt.figure(figsize=(10, 8))\n",
    "sns.heatmap(cm, annot=True, fmt='d', cmap='Blues', xticklabels=label_names, yticklabels=label_names)\n",
    "plt.xlabel('Predicted')\n",
    "plt.ylabel('True')\n",
    "plt.title('Confusion Matrix')\n",
    "plt.show()"
   ]
  },
  {
   "cell_type": "code",
   "execution_count": 23,
   "id": "5a40545c",
   "metadata": {},
   "outputs": [],
   "source": [
    "label_names = ['C1', 'C2', 'C3', 'C4', 'S1', 'S2', 'S3', 'S4']"
   ]
  },
  {
   "cell_type": "code",
   "execution_count": null,
   "id": "aa0b2fc8",
   "metadata": {},
   "outputs": [],
   "source": []
  }
 ],
 "metadata": {
  "kernelspec": {
   "display_name": "Python 3 (ipykernel)",
   "language": "python",
   "name": "python3"
  },
  "language_info": {
   "codemirror_mode": {
    "name": "ipython",
    "version": 3
   },
   "file_extension": ".py",
   "mimetype": "text/x-python",
   "name": "python",
   "nbconvert_exporter": "python",
   "pygments_lexer": "ipython3",
   "version": "3.8.19"
  }
 },
 "nbformat": 4,
 "nbformat_minor": 5
}

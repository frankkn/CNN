{
 "cells": [
  {
   "cell_type": "code",
   "execution_count": 5,
   "id": "61edd301",
   "metadata": {},
   "outputs": [
    {
     "name": "stderr",
     "output_type": "stream",
     "text": [
      "Generating Images: 100%|████████████████████████████████████████████████████████████| 67/67 [00:01<00:00, 45.89image/s]\n",
      "Generating Images: 100%|████████████████████████████████████████████████████████████| 67/67 [00:01<00:00, 58.07image/s]\n",
      "Generating Images: 100%|████████████████████████████████████████████████████████████| 67/67 [00:01<00:00, 58.69image/s]\n",
      "Generating Images: 100%|████████████████████████████████████████████████████████████| 67/67 [00:01<00:00, 59.46image/s]\n",
      "Generating Images: 100%|████████████████████████████████████████████████████████████| 67/67 [00:01<00:00, 59.93image/s]\n",
      "Generating Images: 100%|████████████████████████████████████████████████████████████| 67/67 [00:01<00:00, 59.23image/s]\n",
      "Generating Images: 100%|████████████████████████████████████████████████████████████| 67/67 [00:01<00:00, 57.85image/s]\n",
      "Generating Images: 100%|████████████████████████████████████████████████████████████| 67/67 [00:01<00:00, 58.45image/s]\n",
      "Generating Images: 100%|████████████████████████████████████████████████████████████| 67/67 [00:01<00:00, 58.77image/s]\n",
      "Generating Images: 100%|████████████████████████████████████████████████████████████| 67/67 [00:01<00:00, 59.94image/s]\n",
      "Generating Images: 100%|████████████████████████████████████████████████████████████| 67/67 [00:01<00:00, 60.17image/s]\n",
      "Generating Images: 100%|████████████████████████████████████████████████████████████| 67/67 [00:01<00:00, 59.33image/s]\n",
      "Generating Images: 100%|████████████████████████████████████████████████████████████| 67/67 [00:01<00:00, 60.71image/s]\n",
      "Generating Images: 100%|████████████████████████████████████████████████████████████| 67/67 [00:01<00:00, 59.46image/s]\n",
      "Generating Images: 100%|████████████████████████████████████████████████████████████| 67/67 [00:01<00:00, 58.75image/s]\n",
      "Generating Images: 100%|████████████████████████████████████████████████████████████| 67/67 [00:01<00:00, 59.94image/s]\n",
      "Generating Images: 100%|████████████████████████████████████████████████████████████| 67/67 [00:01<00:00, 58.68image/s]\n",
      "Generating Images: 100%|████████████████████████████████████████████████████████████| 67/67 [00:01<00:00, 58.64image/s]\n",
      "Generating Images: 100%|████████████████████████████████████████████████████████████| 67/67 [00:01<00:00, 59.68image/s]\n",
      "Generating Images: 100%|████████████████████████████████████████████████████████████| 67/67 [00:01<00:00, 58.79image/s]\n",
      "Generating Images: 100%|████████████████████████████████████████████████████████████| 67/67 [00:01<00:00, 59.77image/s]\n",
      "Generating Images: 100%|████████████████████████████████████████████████████████████| 67/67 [00:01<00:00, 58.33image/s]\n",
      "Generating Images: 100%|████████████████████████████████████████████████████████████| 67/67 [00:01<00:00, 57.89image/s]\n",
      "Generating Images: 100%|████████████████████████████████████████████████████████████| 67/67 [00:01<00:00, 54.41image/s]\n",
      "Generating Images: 100%|████████████████████████████████████████████████████████████| 67/67 [00:01<00:00, 58.26image/s]\n",
      "Generating Images: 100%|████████████████████████████████████████████████████████████| 67/67 [00:01<00:00, 58.90image/s]\n",
      "Generating Images: 100%|████████████████████████████████████████████████████████████| 67/67 [00:01<00:00, 57.34image/s]\n",
      "Generating Images: 100%|████████████████████████████████████████████████████████████| 67/67 [00:01<00:00, 55.66image/s]\n",
      "Generating Images: 100%|████████████████████████████████████████████████████████████| 67/67 [00:01<00:00, 58.45image/s]\n",
      "Generating Images: 100%|████████████████████████████████████████████████████████████| 67/67 [00:01<00:00, 58.48image/s]\n",
      "Generating Images: 100%|████████████████████████████████████████████████████████████| 67/67 [00:01<00:00, 58.58image/s]\n",
      "Generating Images: 100%|████████████████████████████████████████████████████████████| 67/67 [00:01<00:00, 58.87image/s]\n",
      "Generating Images: 100%|████████████████████████████████████████████████████████████| 67/67 [00:01<00:00, 56.73image/s]\n",
      "Generating Images: 100%|████████████████████████████████████████████████████████████| 67/67 [00:01<00:00, 55.67image/s]\n",
      "Generating Images: 100%|████████████████████████████████████████████████████████████| 67/67 [00:01<00:00, 58.08image/s]\n",
      "Generating Images: 100%|████████████████████████████████████████████████████████████| 67/67 [00:01<00:00, 55.30image/s]\n",
      "Generating Images: 100%|████████████████████████████████████████████████████████████| 67/67 [00:01<00:00, 55.40image/s]\n",
      "Writing Selected Images: 2433image [00:09, 266.60image/s]"
     ]
    },
    {
     "name": "stdout",
     "output_type": "stream",
     "text": [
      "已隨機挑選 2433 張圖片到 ./aug_owner4\n"
     ]
    },
    {
     "name": "stderr",
     "output_type": "stream",
     "text": [
      "\n"
     ]
    }
   ],
   "source": [
    "import os\n",
    "import tensorflow as tf\n",
    "from data_aug.data_aug import *\n",
    "import numpy as np\n",
    "from tqdm import tqdm\n",
    "\n",
    "np.random.seed(0)\n",
    "\n",
    "IMAGE_DIR = \"./OWNER4_Placards removal\"\n",
    "AUG_DIR = './aug_owner4'\n",
    "target_num = 2433\n",
    "\n",
    "file_and_folder_list = os.listdir(IMAGE_DIR)\n",
    "aug_images = [file for file in file_and_folder_list if file.lower().endswith((\".jpg\", \".JPG\"))]\n",
    "\n",
    "os.makedirs(AUG_DIR, exist_ok=True)\n",
    "\n",
    "trans = Sequence([RandomRotate(10), \n",
    "                  RandomTranslate(0.2), \n",
    "                  RandomHSV(20, 20, 20), \n",
    "                  RandomHorizontalFlip(0.5), \n",
    "                  RandomScale(0.2), \n",
    "                  RandomShear(0.2)])\n",
    "\n",
    "current_num = 0\n",
    "generated_images = []\n",
    "\n",
    "while current_num < target_num:\n",
    "    for name in tqdm(aug_images, desc=\"Generating Images\", unit=\"image\"):\n",
    "        image_file = tf.io.read_file(os.path.join(IMAGE_DIR, name))\n",
    "        image = tf.io.decode_jpeg(image_file, channels=3)\n",
    "        augmented_image = trans(image.numpy().copy())\n",
    "        \n",
    "        # 將新生成的圖片存入列表\n",
    "        generated_images.append(augmented_image)\n",
    "\n",
    "        current_num += 1\n",
    "\n",
    "    # 檢查是否達到或超過目標數量\n",
    "    if current_num >= target_num:\n",
    "        break\n",
    "            \n",
    "# 從生成的所有圖片中隨機挑選target_num張        \n",
    "selected_images = random.sample(generated_images, target_num)\n",
    "\n",
    "# 將挑選的圖片寫入AUG_DIR\n",
    "for idx, selected_image in tqdm(enumerate(selected_images), desc=\"Writing Selected Images\", unit=\"image\"):\n",
    "    new_image_path = os.path.join(AUG_DIR, f\"{idx + 1}_selected_image.jpg\")\n",
    "    tf.io.write_file(new_image_path, tf.io.encode_jpeg(selected_image))\n",
    "\n",
    "print(f\"已隨機挑選 {target_num} 張圖片到 {AUG_DIR}\")"
   ]
  },
  {
   "cell_type": "code",
   "execution_count": 9,
   "id": "72c8ad31",
   "metadata": {},
   "outputs": [
    {
     "name": "stderr",
     "output_type": "stream",
     "text": [
      "Generating Images: 100%|██████████████████████████████████████████████████████████| 109/109 [00:02<00:00, 41.51image/s]\n",
      "Generating Images: 100%|██████████████████████████████████████████████████████████| 109/109 [00:02<00:00, 51.35image/s]\n",
      "Generating Images: 100%|██████████████████████████████████████████████████████████| 109/109 [00:02<00:00, 53.37image/s]\n",
      "Generating Images: 100%|██████████████████████████████████████████████████████████| 109/109 [00:01<00:00, 54.53image/s]\n",
      "Generating Images: 100%|██████████████████████████████████████████████████████████| 109/109 [00:02<00:00, 52.47image/s]\n",
      "Generating Images: 100%|██████████████████████████████████████████████████████████| 109/109 [00:02<00:00, 52.59image/s]\n",
      "Generating Images: 100%|██████████████████████████████████████████████████████████| 109/109 [00:01<00:00, 55.45image/s]\n",
      "Generating Images: 100%|██████████████████████████████████████████████████████████| 109/109 [00:02<00:00, 52.77image/s]\n",
      "Generating Images: 100%|██████████████████████████████████████████████████████████| 109/109 [00:02<00:00, 52.33image/s]\n",
      "Generating Images: 100%|██████████████████████████████████████████████████████████| 109/109 [00:01<00:00, 54.68image/s]\n",
      "Generating Images: 100%|██████████████████████████████████████████████████████████| 109/109 [00:02<00:00, 49.23image/s]\n",
      "Generating Images: 100%|██████████████████████████████████████████████████████████| 109/109 [00:01<00:00, 57.03image/s]\n",
      "Generating Images: 100%|██████████████████████████████████████████████████████████| 109/109 [00:02<00:00, 53.53image/s]\n",
      "Generating Images: 100%|██████████████████████████████████████████████████████████| 109/109 [00:02<00:00, 54.31image/s]\n",
      "Generating Images: 100%|██████████████████████████████████████████████████████████| 109/109 [00:02<00:00, 50.38image/s]\n",
      "Generating Images: 100%|██████████████████████████████████████████████████████████| 109/109 [00:02<00:00, 52.28image/s]\n",
      "Generating Images: 100%|██████████████████████████████████████████████████████████| 109/109 [00:02<00:00, 51.18image/s]\n",
      "Generating Images: 100%|██████████████████████████████████████████████████████████| 109/109 [00:02<00:00, 52.15image/s]\n",
      "Generating Images: 100%|██████████████████████████████████████████████████████████| 109/109 [00:02<00:00, 51.61image/s]\n",
      "Generating Images: 100%|██████████████████████████████████████████████████████████| 109/109 [00:02<00:00, 52.41image/s]\n",
      "Generating Images: 100%|██████████████████████████████████████████████████████████| 109/109 [00:02<00:00, 51.23image/s]\n",
      "Generating Images: 100%|██████████████████████████████████████████████████████████| 109/109 [00:02<00:00, 53.40image/s]\n",
      "Writing Selected Images: 2391image [00:07, 314.40image/s]"
     ]
    },
    {
     "name": "stdout",
     "output_type": "stream",
     "text": [
      "已隨機挑選 2391 張圖片到 ./aug_shipper4\n"
     ]
    },
    {
     "name": "stderr",
     "output_type": "stream",
     "text": [
      "\n"
     ]
    }
   ],
   "source": [
    "np.random.seed(0)\n",
    "\n",
    "IMAGE_DIR = \"./SHIPPER4_Panel or Sidewalls dirts\"\n",
    "AUG_DIR = './aug_shipper4'\n",
    "target_num = 2391\n",
    "\n",
    "file_and_folder_list = os.listdir(IMAGE_DIR)\n",
    "aug_images = [file for file in file_and_folder_list if file.lower().endswith((\".jpg\", \".JPG\"))]\n",
    "\n",
    "os.makedirs(AUG_DIR, exist_ok=True)\n",
    "\n",
    "trans = Sequence([RandomRotate(10), \n",
    "                  RandomTranslate(0.2), \n",
    "                  RandomHSV(20, 20, 20), \n",
    "                  RandomHorizontalFlip(0.5), \n",
    "                  RandomScale(0.2), \n",
    "                  RandomShear(0.2)])\n",
    "\n",
    "current_num = 0\n",
    "generated_images = []\n",
    "\n",
    "while current_num < target_num:\n",
    "    for name in tqdm(aug_images, desc=\"Generating Images\", unit=\"image\"):\n",
    "        image_file = tf.io.read_file(os.path.join(IMAGE_DIR, name))\n",
    "        image = tf.io.decode_jpeg(image_file, channels=3)\n",
    "        augmented_image = trans(image.numpy().copy())\n",
    "        \n",
    "        # 將新生成的圖片存入列表\n",
    "        generated_images.append(augmented_image)\n",
    "\n",
    "        current_num += 1\n",
    "\n",
    "    # 檢查是否達到或超過目標數量\n",
    "    if current_num >= target_num:\n",
    "        break\n",
    "            \n",
    "# 從生成的所有圖片中隨機挑選target_num張        \n",
    "selected_images = random.sample(generated_images, target_num)\n",
    "\n",
    "# 將挑選的圖片寫入AUG_DIR\n",
    "for idx, selected_image in tqdm(enumerate(selected_images), desc=\"Writing Selected Images\", unit=\"image\"):\n",
    "    new_image_path = os.path.join(AUG_DIR, f\"{idx + 1}_selected_image.jpg\")\n",
    "    tf.io.write_file(new_image_path, tf.io.encode_jpeg(selected_image))\n",
    "\n",
    "print(f\"已隨機挑選 {target_num} 張圖片到 {AUG_DIR}\")"
   ]
  },
  {
   "cell_type": "code",
   "execution_count": null,
   "id": "3b4a118c",
   "metadata": {},
   "outputs": [],
   "source": []
  }
 ],
 "metadata": {
  "kernelspec": {
   "display_name": "Python 3 (ipykernel)",
   "language": "python",
   "name": "python3"
  },
  "language_info": {
   "codemirror_mode": {
    "name": "ipython",
    "version": 3
   },
   "file_extension": ".py",
   "mimetype": "text/x-python",
   "name": "python",
   "nbconvert_exporter": "python",
   "pygments_lexer": "ipython3",
   "version": "3.9.18"
  }
 },
 "nbformat": 4,
 "nbformat_minor": 5
}

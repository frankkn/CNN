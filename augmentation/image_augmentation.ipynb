{
 "cells": [
  {
   "cell_type": "code",
   "execution_count": 13,
   "id": "61edd301",
   "metadata": {},
   "outputs": [
    {
     "name": "stderr",
     "output_type": "stream",
     "text": [
      "Generating Images: 100%|██████████████████████████████████████████████████████████| 600/600 [00:11<00:00, 52.21image/s]\n",
      "Generating Images: 100%|██████████████████████████████████████████████████████████| 600/600 [00:11<00:00, 52.31image/s]\n",
      "Generating Images: 100%|██████████████████████████████████████████████████████████| 600/600 [00:11<00:00, 51.83image/s]\n",
      "Generating Images: 100%|██████████████████████████████████████████████████████████| 600/600 [00:11<00:00, 51.56image/s]\n",
      "Writing Selected Images: 2173image [00:08, 250.25image/s]"
     ]
    },
    {
     "name": "stdout",
     "output_type": "stream",
     "text": [
      "已隨機挑選 2173 張圖片到 ./aug_owner\n"
     ]
    },
    {
     "name": "stderr",
     "output_type": "stream",
     "text": [
      "\n"
     ]
    }
   ],
   "source": [
    "import os\n",
    "import tensorflow as tf\n",
    "from data_aug.data_aug import *\n",
    "import numpy as np\n",
    "from tqdm import tqdm\n",
    "\n",
    "np.random.seed(0)\n",
    "\n",
    "IMAGE_DIR = \"./600_owner\"\n",
    "AUG_DIR = './aug_owner'\n",
    "target_num = 2173\n",
    "\n",
    "file_and_folder_list = os.listdir(IMAGE_DIR)\n",
    "aug_images = [file for file in file_and_folder_list if file.lower().endswith((\".jpg\", \".JPG\"))]\n",
    "\n",
    "os.makedirs(AUG_DIR, exist_ok=True)\n",
    "\n",
    "trans = Sequence([RandomRotate(10), \n",
    "                  RandomTranslate(0.2), \n",
    "                  RandomHSV(20, 20, 20), \n",
    "                  RandomHorizontalFlip(0.5), \n",
    "                  RandomScale(0.2), \n",
    "                  RandomShear(0.2)])\n",
    "\n",
    "current_num = 0\n",
    "generated_images = []\n",
    "\n",
    "while current_num < target_num:\n",
    "    for name in tqdm(aug_images, desc=\"Generating Images\", unit=\"image\"):\n",
    "        image_file = tf.io.read_file(os.path.join(IMAGE_DIR, name))\n",
    "        image = tf.io.decode_jpeg(image_file, channels=3)\n",
    "        augmented_image = trans(image.numpy().copy())\n",
    "        \n",
    "        # 將新生成的圖片存入列表\n",
    "        generated_images.append(augmented_image)\n",
    "\n",
    "        current_num += 1\n",
    "\n",
    "    # 檢查是否達到或超過目標數量\n",
    "    if current_num >= target_num:\n",
    "        break\n",
    "            \n",
    "# 從生成的所有圖片中隨機挑選target_num張        \n",
    "selected_images = random.sample(generated_images, target_num)\n",
    "\n",
    "# 將挑選的圖片寫入AUG_DIR\n",
    "for idx, selected_image in tqdm(enumerate(selected_images), desc=\"Writing Selected Images\", unit=\"image\"):\n",
    "    new_image_path = os.path.join(AUG_DIR, f\"{idx + 1}_selected_image.jpg\")\n",
    "    tf.io.write_file(new_image_path, tf.io.encode_jpeg(selected_image))\n",
    "\n",
    "print(f\"已隨機挑選 {target_num} 張圖片到 {AUG_DIR}\")"
   ]
  },
  {
   "cell_type": "code",
   "execution_count": 14,
   "id": "72c8ad31",
   "metadata": {},
   "outputs": [
    {
     "name": "stderr",
     "output_type": "stream",
     "text": [
      "Generating Images: 100%|██████████████████████████████████████████████████████████| 200/200 [00:03<00:00, 50.81image/s]\n",
      "Generating Images: 100%|██████████████████████████████████████████████████████████| 200/200 [00:03<00:00, 51.66image/s]\n",
      "Generating Images: 100%|██████████████████████████████████████████████████████████| 200/200 [00:03<00:00, 51.01image/s]\n",
      "Generating Images: 100%|██████████████████████████████████████████████████████████| 200/200 [00:03<00:00, 52.45image/s]\n",
      "Generating Images: 100%|██████████████████████████████████████████████████████████| 200/200 [00:03<00:00, 51.96image/s]\n",
      "Generating Images: 100%|██████████████████████████████████████████████████████████| 200/200 [00:03<00:00, 52.32image/s]\n",
      "Generating Images: 100%|██████████████████████████████████████████████████████████| 200/200 [00:03<00:00, 51.76image/s]\n",
      "Generating Images: 100%|██████████████████████████████████████████████████████████| 200/200 [00:03<00:00, 52.32image/s]\n",
      "Generating Images: 100%|██████████████████████████████████████████████████████████| 200/200 [00:03<00:00, 50.94image/s]\n",
      "Generating Images: 100%|██████████████████████████████████████████████████████████| 200/200 [00:03<00:00, 54.34image/s]\n",
      "Generating Images: 100%|██████████████████████████████████████████████████████████| 200/200 [00:03<00:00, 54.00image/s]\n",
      "Generating Images: 100%|██████████████████████████████████████████████████████████| 200/200 [00:03<00:00, 51.97image/s]\n",
      "Generating Images: 100%|██████████████████████████████████████████████████████████| 200/200 [00:03<00:00, 52.54image/s]\n",
      "Generating Images: 100%|██████████████████████████████████████████████████████████| 200/200 [00:03<00:00, 54.39image/s]\n",
      "Generating Images: 100%|██████████████████████████████████████████████████████████| 200/200 [00:03<00:00, 51.57image/s]\n",
      "Generating Images: 100%|██████████████████████████████████████████████████████████| 200/200 [00:03<00:00, 53.34image/s]\n",
      "Generating Images: 100%|██████████████████████████████████████████████████████████| 200/200 [00:03<00:00, 51.85image/s]\n",
      "Writing Selected Images: 3327image [00:13, 250.78image/s]"
     ]
    },
    {
     "name": "stdout",
     "output_type": "stream",
     "text": [
      "已隨機挑選 3327 張圖片到 ./aug_shipper\n"
     ]
    },
    {
     "name": "stderr",
     "output_type": "stream",
     "text": [
      "\n"
     ]
    }
   ],
   "source": [
    "np.random.seed(0)\n",
    "\n",
    "IMAGE_DIR = \"./200_shipper\"\n",
    "AUG_DIR = './aug_shipper'\n",
    "target_num = 3327\n",
    "\n",
    "file_and_folder_list = os.listdir(IMAGE_DIR)\n",
    "aug_images = [file for file in file_and_folder_list if file.lower().endswith((\".jpg\", \".JPG\"))]\n",
    "\n",
    "os.makedirs(AUG_DIR, exist_ok=True)\n",
    "\n",
    "trans = Sequence([RandomRotate(10), \n",
    "                  RandomTranslate(0.2), \n",
    "                  RandomHSV(20, 20, 20), \n",
    "                  RandomHorizontalFlip(0.5), \n",
    "                  RandomScale(0.2), \n",
    "                  RandomShear(0.2)])\n",
    "\n",
    "current_num = 0\n",
    "generated_images = []\n",
    "\n",
    "while current_num < target_num:\n",
    "    for name in tqdm(aug_images, desc=\"Generating Images\", unit=\"image\"):\n",
    "        image_file = tf.io.read_file(os.path.join(IMAGE_DIR, name))\n",
    "        image = tf.io.decode_jpeg(image_file, channels=3)\n",
    "        augmented_image = trans(image.numpy().copy())\n",
    "        \n",
    "        # 將新生成的圖片存入列表\n",
    "        generated_images.append(augmented_image)\n",
    "\n",
    "        current_num += 1\n",
    "\n",
    "    # 檢查是否達到或超過目標數量\n",
    "    if current_num >= target_num:\n",
    "        break\n",
    "            \n",
    "# 從生成的所有圖片中隨機挑選target_num張        \n",
    "selected_images = random.sample(generated_images, target_num)\n",
    "\n",
    "# 將挑選的圖片寫入AUG_DIR\n",
    "for idx, selected_image in tqdm(enumerate(selected_images), desc=\"Writing Selected Images\", unit=\"image\"):\n",
    "    new_image_path = os.path.join(AUG_DIR, f\"{idx + 1}_selected_image.jpg\")\n",
    "    tf.io.write_file(new_image_path, tf.io.encode_jpeg(selected_image))\n",
    "\n",
    "print(f\"已隨機挑選 {target_num} 張圖片到 {AUG_DIR}\")"
   ]
  },
  {
   "cell_type": "code",
   "execution_count": null,
   "id": "3b4a118c",
   "metadata": {},
   "outputs": [],
   "source": []
  }
 ],
 "metadata": {
  "kernelspec": {
   "display_name": "Python 3 (ipykernel)",
   "language": "python",
   "name": "python3"
  },
  "language_info": {
   "codemirror_mode": {
    "name": "ipython",
    "version": 3
   },
   "file_extension": ".py",
   "mimetype": "text/x-python",
   "name": "python",
   "nbconvert_exporter": "python",
   "pygments_lexer": "ipython3",
   "version": "3.7.16"
  }
 },
 "nbformat": 4,
 "nbformat_minor": 5
}
